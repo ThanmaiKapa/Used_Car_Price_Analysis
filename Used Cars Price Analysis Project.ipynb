{
 "cells": [
  {
   "cell_type": "code",
   "execution_count": 1,
   "id": "14e06381",
   "metadata": {},
   "outputs": [],
   "source": [
    "# Importing libraries\n",
    "import requests\n",
    "from bs4 import BeautifulSoup\n",
    "import pandas as pd"
   ]
  },
  {
   "cell_type": "code",
   "execution_count": 2,
   "id": "53f8ab7a",
   "metadata": {},
   "outputs": [],
   "source": [
    "# Creating a locations list to read used cars data from the locations\n",
    "location_list=['bangalore','new-delhi','mumbai','hyderabad','ahmedabad','gurgaon','chennai','pune','noida','lucknow','jaipur','kolkata','kochi','indore','chandigarh']"
   ]
  },
  {
   "cell_type": "code",
   "execution_count": 3,
   "id": "16a64b18",
   "metadata": {},
   "outputs": [],
   "source": [
    "# Declaring empty lists\n",
    "car_name=[]\n",
    "car_model_year=[]\n",
    "car_company=[]\n",
    "location=[]\n",
    "price=[]\n",
    "EMI=[]\n",
    "# Reading contents of the webpages using location list\n",
    "for i in location_list:\n",
    "    headers = {'User-Agent': 'Mozilla/5.0 (Windows NT 10.0; Win64; x64) AppleWebKit/537.36 (KHTML, like Gecko) Chrome/116.0.0.0 Safari/537.36 Edg/116.0.1938.54'}\n",
    "    source = requests.get(f'https://www.cars24.com/buy-used-cars-{i}/',headers=headers)\n",
    "    source.raise_for_status()\n",
    "    soup = BeautifulSoup(source.text,'html.parser')\n",
    "    cars=soup.find_all('h3', class_=\"_11dVb\")\n",
    "    locations=soup.find_all('p',class_=\"_3dGMY\")\n",
    "    prices=soup.find_all('div',class_='_2KyOK')\n",
    "    Month_EMI=soup.find_all('div',class_='-EPGU')\n",
    "    # Reading required data into the empty lists created above\n",
    "    for car in cars:\n",
    "        car_name.append(car.text[5:])\n",
    "        car_model_year.append(car.text.split()[0])\n",
    "        car_company.append(car.text.split()[1])\n",
    "    for l in range(len(locations)):\n",
    "        location.append(i)\n",
    "    for pr in prices:\n",
    "        price.append(pr.text.split()[0]+' Lakh')\n",
    "    for emi in Month_EMI:\n",
    "        EMI.append((emi.text.split('from')[1]).split('/')[0])"
   ]
  },
  {
   "cell_type": "code",
   "execution_count": 4,
   "id": "db0140b4",
   "metadata": {},
   "outputs": [
    {
     "name": "stdout",
     "output_type": "stream",
     "text": [
      "['Honda City 1.5L I-VTEC V MT', 'Renault Duster 110 PS RXL DIESEL', 'Tata PUNCH ACCOMPLISHED AMT', 'Ford Ecosport TITANIUM 1.5L PETROL', 'Renault Duster 85 PS RXZ DIESEL', 'Hyundai VENUE S 1.2', 'Mahindra XUV500 W6', 'Tata ALTROZ XZ PETROL', 'Maruti Baleno RS 1.0 PETROL', 'MG HECTOR SHARP 1.5 DCT PETROL', 'Hyundai Grand i10 MAGNA 1.2 KAPPA VTVT', 'Tata TIGOR XZ (O) PETROL', 'Maruti Celerio ZXI AMT (O)', 'Honda City 1.5L I-VTEC SV', 'Renault Kwid RXT 1.0', 'Renault Kwid RXT 1.0 (O)', 'Skoda Rapid AMBITION 1.6 MPI MT', 'Renault Kwid RXT 1.0 AMT (O)', 'Maruti Wagon R 1.0 VXI AMT', 'Maruti Baleno ZETA PETROL 1.2', 'Hyundai Verna 1.6 VTVT SX', 'Honda City 1.5L I-VTE V CVT', 'Tata PUNCH CREATIVE  1.2 RTN DUAL TONE', 'Tata NEXON XMA DIESEL', 'Mahindra XUV700 AX 7 LUXURY D AWD AT 7 STR', 'Ford Ecosport TITANIUM + 1.5L PETROL AT', 'Hyundai GRAND I10 NIOS SPORTZ 1.2 KAPPA VTVT', 'Hyundai Creta E PLUS 1.6 PETROL', 'Tata PUNCH  ACCOMPLISHED AMT CAMO EDITION', 'Maruti Alto K10 VXI AMT', 'Ford Ecosport TITANIUM 1.5L PETROL AT', 'MG HECTOR SHARP 1.5 PETROL CVT', 'Honda City 1.5L I-VTEC ZX CVT', 'Honda WR-V 1.2L I-VTEC SV MT', 'Maruti Wagon R 1.0 VXI', 'Maruti Dzire LXI', 'Hyundai AURA S 1.2', 'Ford Ecosport TITANIUM 1.5L PETROL', 'Honda City 1.5L I-VTEC ZX CVT', 'Ford Ecosport TITANIUM 1.5L PETROL AT', 'Honda BR-V 1.5L I-VTEC V', 'Volkswagen Polo COMFORTLINE 1.2L', 'Tata Tiago XZ PETROL', 'KIA SELTOS GTX (O) 1.4', 'Maruti XL6 ZETA CNG', 'Maruti Wagon R 1.0 LXI CNG', 'Renault Kwid RXL', 'Hyundai Elite i20 MAGNA EXECUTIVE 1.2', 'Tata TIGOR XZ PLUS CNG', 'Toyota URBAN CRUISER MID GRADE MT', 'Tata NEXON XE PETROL', 'KIA SONET GTX PLUS 1.0 IMT', 'Honda City 1.5L I-VTEC VX', 'Hyundai i20 Active 1.2 S', 'Maruti XL6 ALPHA PLUS MT', 'KIA SONET GTX PLUS 1.5', 'Maruti Baleno ZETA PETROL 1.2', 'Hyundai NEW I20 Sportz 1.2 IVT', 'Maruti Swift Dzire VDI', 'Maruti New Wagon-R LXI CNG 1.0', 'Maruti Swift LXI', 'Hyundai Elite i20 ASTA 1.2', 'Volkswagen Polo GT TSI AT', 'Maruti Grand Vitara DELTA SMART HYBRID', 'Mahindra Thar LX HT PETROL 4WD MT', 'Tata Tiago XZA PETROL', 'Maruti Swift Dzire VDI', 'Maruti Ertiga VXI AT SHVS', 'Volkswagen Ameo HIGHLINE1.5L', 'Nissan MAGNITE XV TURBO CVT DUAL TONE', 'Hyundai Verna SX 1.5 VTVT', 'Maruti Baleno DELTA PETROL 1.2', 'Maruti Dzire VXI', 'Ford Ecosport TITANIUM 1.5L DIESEL', 'Maruti Vitara Brezza ZDI', 'Maruti S PRESSO VXI', 'Maruti Alto 800 LXI', 'Maruti Swift ZXI', 'Maruti Dzire VXI AMT', 'KIA SELTOS HTK PLUS 1.5', 'Datsun Redi Go T(O) 1.0L LIMITED EDITION', 'Hyundai Elite i20 ASTA 1.2 (O)', 'Renault Kwid RXL', 'Maruti Swift VXI', 'Honda City 1.5L I-VTEC E MT', 'Hyundai Elite i20 MAGNA 1.2', 'Maruti Ciaz ZDI SHVS', 'Mahindra Thar LX HT PETROL 4WD MT', 'Honda Amaze 1.2L I-VTEC VX', 'Volkswagen Polo HIGHLINE PLUS 1.2(16 ALLOY', 'Hyundai Elite i20 ASTA 1.2', 'Volkswagen Polo COMFORTLINE 1.0L MPI', 'Ford Ecosport TITANIUM+ 1.0L ECOBOOST', 'Hyundai Elite i20 SPORTZ PLUS 1.4 CRDI', 'Hyundai GRAND I10 NIOS MAGNA 1.2 KAPPA VTVT', 'Hyundai Creta SX 1.5 PETROL', 'Renault TRIBER RXL MT', 'Honda City 1.5L I-VTEC V MT', 'Honda Amaze 1.2L I-VTEC S', 'Tata Tiago XT (O) PETROL', 'Tata Harrier XT PLUS 2.0L KRYOTEC DARK EDITON', 'Hyundai Verna SX 1.5 CRDI', 'KIA SELTOS HTE 1.5 DIESEL', 'Maruti IGNIS SIGMA 1.2', 'Honda City 1.5L I-VTEC V MT', 'Tata Tiago XZ PLUS CNG', 'Tata Tiago XZ PETROL', 'Honda City 1.5L I-VTEC ZX CVT', 'Hyundai AURA S 1.2', 'Maruti XL6 ALPHA PLUS AT', 'Ford FREESTYLE TITANIUM PLUS 1.2 PETROL', 'Tata Tiago XE PETROL', 'Mahindra XUV500 W7 AT', 'Tata TIGOR XM PETROL', 'Maruti XL6 ALPHA PLUS MT', 'Hyundai Grand i10 ASTA 1.2 KAPPA VTVT', 'Renault TRIBER RXZ', 'Renault TRIBER RXL MT', 'Maruti Ciaz DELTA AT 1.5 SHVS PETROL', 'Maruti Ciaz ALPHA 1.5 SHVS PETROL', 'Tata Tiago XZ PETROL', 'Hyundai i10 SPORTZ 1.1', 'Maruti Swift VXI', 'Tata Tiago XE PETROL', 'Honda Brio S MT', 'Maruti Swift VXI', 'Maruti Dzire VXI', 'Maruti Vitara Brezza ZDI', 'Hyundai Elite i20 SPORTZ 1.2', 'Datsun Redi Go T(O) 1.0', 'Toyota URBAN CRUISER PREMIUM GRADE MT', 'Ford Ecosport TITANIUM 1.5L PETROL', 'Hyundai GRAND I10 NIOS SPORTZ AMT 1.2 KAPPA VTVT', 'Hyundai AURA SX 1.2', 'Hyundai Elite i20 SPORTZ PLUS 1.2', 'Maruti IGNIS DELTA 1.2', 'Renault Kwid RXT 1.0 (O)', 'Volkswagen Vento HIGHLINE PETROL AT', 'Hyundai Verna 1.6 EX CRDI', 'Tata ALTROZ XT PETROL', 'Hyundai Grand i10 SPORTZ 1.2 KAPPA VTVT', 'Hyundai NEW I20 ASTA (O) 1.2 MT', 'Hyundai GRAND I10 NIOS SPORTZ 1.2 KAPPA VTVT', 'Maruti Swift VXI', 'Maruti Swift VXI', 'Maruti Alto K10 VXI', 'KIA SELTOS HTK PLUS 1.5', 'Maruti Swift VXI', 'Renault Kwid RXT 0.8 (O)', 'Hyundai i10 SPORTZ 1.1', 'Hyundai Xcent E+', 'Hyundai NEW SANTRO SPORTZ CNG', 'Hyundai i10 ASTA 1.2', 'Tata NEXON XZ PLUS DIESEL', 'Tata Zest XT PETROL', 'Maruti Alto VXI', 'Honda City 1.5L I-VTEC VX', 'Nissan MAGNITE XV MT', 'Maruti Wagon R 1.0 VXI', 'Honda City 1.5L I-VTEC ZX CVT', 'Tata ALTROZ XT PETROL', 'Maruti Celerio VXI CNG', 'Honda WR-V 1.2L I-VTEC VX MT', 'Maruti Celerio VXI AMT', 'Maruti Baleno DELTA CVT PETROL 1.2', 'Maruti IGNIS DELTA 1.2', 'Maruti Dzire ZXI PLUS', 'Honda BR-V 1.5L I-VTEC V', 'Maruti Baleno DELTA PETROL 1.2', 'Hyundai Xcent S 1.2', 'Maruti S PRESSO VXI PLUS AMT', 'Tata TIGOR XM CNG', 'Skoda Rapid STYLE TSI', 'KIA CARENS LUXURY PLUS 1.4 PETROL 6 STR', 'Honda WR-V 1.2L I-VTEC S MT', 'Hyundai Elite i20 ASTA 1.2 (O)', 'Tata PUNCH ACCOMPLISHED MT', 'Tata Safari XZ', 'Maruti Ciaz VXI', 'Tata Harrier XZA PLUS 2.0L DARK EDITION', 'Maruti Baleno ZETA PETROL 1.2', 'Hyundai Creta SX PLUS 1.6 PETROL', 'Hyundai Grand i10 MAGNA 1.2 KAPPA VTVT', 'Hyundai NEW SANTRO MAGNA', 'Maruti New Wagon-R VXI 1.0', 'Hyundai Grand i10 SPORTZ 1.2 KAPPA VTVT', 'Honda Amaze 1.2L I-VTEC S CVT', 'Hyundai NEW SANTRO MAGNA', 'Hyundai NEW SANTRO SPORTZ AMT', 'Tata Harrier XT 2.0L KRYOTEC', 'Maruti Vitara Brezza ZDI AMT', 'Maruti Vitara Brezza VDI', 'Maruti Swift Dzire VXI', 'Maruti Wagon R 1.0 VXI', 'Maruti Swift VXI O', 'Maruti Baleno DELTA PETROL 1.2', 'Nissan MAGNITE XV PREMIUM DUAL TONE', 'Maruti Baleno DELTA DIESEL 1.3', 'Honda City 1.5L I-VTEC V MT', 'Maruti Baleno DELTA PETROL 1.2', 'Hyundai Creta SX PLUS 1.6 PETROL', 'Honda Jazz 1.2L I-VTEC V AT', 'Honda WR-V 1.2L I-VTEC S MT', 'Maruti Swift LDI', 'Hyundai Elite i20 ASTA 1.2', 'Hyundai Verna S PLUS 1.5 VTVT', 'Hyundai i10 MAGNA 1.1', 'Renault Duster 85 PS RXE DIESEL', 'Maruti Wagon R 1.0 VXI', 'Renault Kwid RXT 1.0 (O)', 'Renault Kwid CLIMBER 1.0 (O)', 'Toyota Glanza V', 'Hyundai AURA S 1.2', 'Hyundai Grand i10 SPORTZ 1.2 KAPPA VTVT', 'Maruti Baleno ZETA PETROL 1.2', 'Honda City 1.5L I-DTEC V', 'Mahindra KUV 100 NXT K4+ P 6 STR', 'Hyundai NEW SANTRO SPORTZ AMT', 'Tata TIGOR XZA PETROL', 'Hyundai GRAND I10 NIOS SPORTZ AMT 1.2 KAPPA VTVT', 'Hyundai Verna FLUIDIC 1.6 VTVT SX', 'Maruti Alto K10 LXI', 'Hyundai Grand i10 MAGNA 1.2 KAPPA VTVT', 'Maruti Alto 800 LXI', 'Ford Ecosport TITANIUM 1.5L PETROL', 'Maruti S PRESSO VXI+', 'Hyundai Grand i10 SPORTZ (O) AT 1.2 KAPPA VTVT', 'Tata NEXON XM PETROL', 'Toyota Etios CROSS 1.2 G', 'Datsun Go T', 'Maruti Swift VXI', 'Tata ALTROZ XZ PLUS PETROL', 'Maruti Wagon R 1.0 VXI', 'Honda City 1.5L I-VTEC E MT', 'Maruti Swift VXI', 'Mahindra KUV 100 NXT K4+ P 6 STR', 'Hyundai Verna 1.6 VTVT SX O', 'Datsun Redi Go A', 'Maruti Dzire ZXI PLUS AMT', 'Hyundai Elite i20 SPORTZ PLUS 1.2', 'Hyundai Eon SPORTZ', 'Hyundai Elite i20 SPORTZ 1.2', 'Hyundai Eon ERA +', 'Honda City 1.5L I-VTEC VX', 'Hyundai VENUE SX 1.0 TURBO', 'Maruti Alto LXI O', 'Tata NEXON XM PETROL', 'Honda Amaze 1.2L I-VTEC V CVT', 'Hyundai VENUE S 1.2', 'Honda City 1.5L I-VTEC V MT', 'Tata Tiago XZ PETROL', 'Volkswagen Ameo COMFORTLINE PLUS 1.2L', 'Hyundai Elite i20 SPORTZ 1.2', 'Tata TIAGO NRG XZ MT', 'Toyota Etios Liva GD', 'Maruti Wagon R 1.0 LXI', 'Maruti Alto LXI', 'Hyundai Elite i20 ASTA 1.2', 'MG HECTOR PLUS SUPER 2.0 DIESEL TURBO MT 7-STR', 'Maruti Celerio VXI AMT', 'Maruti Celerio VXI', 'Maruti Baleno ZETA CVT PETROL 1.2', 'KIA SELTOS HTK PLUS 1.5', 'Maruti Baleno SIGMA PETROL 1.2', 'Hyundai Elite i20 SPORTZ 1.2', 'Maruti Alto K10 LXI', 'Volkswagen Polo TRENDLINE 1.0L', 'Ford Ecosport TREND 1.5L PETROL', 'Hyundai i10 SPORTZ 1.2', 'Maruti Swift VXI', 'Hyundai Elite i20 MAGNA 1.2', 'Ford Ecosport TREND+ 1.0L ECOBOOST', 'Toyota URBAN CRUISER MID GRADE MT', 'Maruti Wagon R 1.0 LXI', 'Jeep Compass LONGITUDE 2.0 DIESEL', 'Honda Brio S MT', 'Maruti New Wagon-R VXI (O) 1.2', 'Honda Amaze 1.2L I-VTEC VX', 'Hyundai VENUE S 1.2', 'Maruti Alto LXI', 'Maruti S PRESSO VXI PLUS AMT', 'Tata Tiago XZ PLUS PETROL', 'Maruti Celerio ZXI', 'Renault Kwid RXT 1.0 AMT', 'Maruti Ciaz ALPHA 1.5 SHVS PETROL', 'Maruti Vitara Brezza VDI (O)', 'Maruti Swift Dzire VDI ABS', 'Toyota Innova 2.5 GX 8 STR', 'Hyundai AURA SX 1.2', 'Mahindra XUV500 W7', 'Maruti Vitara Brezza ZDI PLUS', 'Maruti Celerio ZXI', 'Maruti Baleno ZETA PETROL 1.2', 'Hyundai Verna 1.6 CRDI SX (O) AT', 'KIA SELTOS HTK PLUS 1.5 DIESEL', 'Maruti Swift ZXI', 'Toyota Innova 2.5 VX 8 STR', 'Honda City 1.5L I-VTEC V MT 4TH GEN', 'Ford Ecosport TITANIUM 1.5L DIESEL', 'Renault Duster 85 PS RXZ DIESEL']\n"
     ]
    }
   ],
   "source": [
    "print(car_name)"
   ]
  },
  {
   "cell_type": "code",
   "execution_count": 5,
   "id": "ee2afb93",
   "metadata": {},
   "outputs": [
    {
     "name": "stdout",
     "output_type": "stream",
     "text": [
      "['2013', '2015', '2021', '2016', '2017', '2020', '2015', '2020', '2018', '2019', '2018', '2018', '2019', '2015', '2016', '2017', '2017', '2017', '2016', '2019', '2018', '2023', '2022', '2020', '2022', '2019', '2023', '2018', '2022', '2014', '2015', '2022', '2017', '2022', '2017', '2019', '2020', '2018', '2020', '2019', '2016', '2015', '2016', '2022', '2023', '2013', '2020', '2017', '2023', '2021', '2021', '2020', '2014', '2016', '2023', '2022', '2017', '2022', '2013', '2020', '2021', '2017', '2019', '2023', '2021', '2018', '2013', '2022', '2017', '2022', '2020', '2016', '2019', '2017', '2016', '2019', '2014', '2016', '2018', '2021', '2018', '2017', '2018', '2021', '2014', '2015', '2016', '2021', '2021', '2018', '2015', '2020', '2015', '2019', '2020', '2022', '2022', '2015', '2023', '2021', '2022', '2020', '2021', '2022', '2018', '2022', '2020', '2017', '2023', '2022', '2018', '2023', '2021', '2023', '2022', '2016', '2020', '2023', '2018', '2019', '2016', '2015', '2015', '2021', '2013', '2022', '2018', '2016', '2015', '2021', '2022', '2020', '2022', '2020', '2020', '2018', '2019', '2018', '2018', '2022', '2014', '2021', '2022', '2016', '2013', '2017', '2021', '2016', '2019', '2013', '2017', '2019', '2013', '2017', '2016', '2019', '2020', '2022', '2017', '2018', '2021', '2019', '2021', '2016', '2016', '2019', '2019', '2016', '2021', '2018', '2019', '2023', '2021', '2022', '2018', '2018', '2022', '2021', '2016', '2022', '2018', '2017', '2018', '2019', '2020', '2018', '2022', '2019', '2019', '2019', '2019', '2019', '2013', '2014', '2017', '2020', '2021', '2017', '2015', '2019', '2017', '2017', '2018', '2014', '2015', '2021', '2014', '2017', '2014', '2020', '2021', '2021', '2020', '2018', '2022', '2018', '2018', '2020', '2018', '2021', '2013', '2016', '2018', '2017', '2018', '2021', '2017', '2019', '2014', '2018', '2019', '2020', '2015', '2014', '2023', '2017', '2018', '2020', '2018', '2019', '2012', '2017', '2016', '2017', '2022', '2022', '2019', '2019', '2021', '2016', '2021', '2016', '2017', '2022', '2012', '2015', '2010', '2015', '2021', '2015', '2014', '2017', '2020', '2017', '2018', '2013', '2021', '2017', '2013', '2016', '2017', '2017', '2022', '2013', '2018', '2013', '2019', '2022', '2022', '2019', '2019', '2023', '2019', '2023', '2019', '2016', '2015', '2012', '2023', '2020', '2019', '2018', '2022', '2020', '2020', '2021', '2015', '2022', '2016', '2017']\n"
     ]
    }
   ],
   "source": [
    "print(car_model_year)"
   ]
  },
  {
   "cell_type": "code",
   "execution_count": 6,
   "id": "95b1dcf3",
   "metadata": {},
   "outputs": [
    {
     "name": "stdout",
     "output_type": "stream",
     "text": [
      "['Honda', 'Renault', 'Tata', 'Ford', 'Renault', 'Hyundai', 'Mahindra', 'Tata', 'Maruti', 'MG', 'Hyundai', 'Tata', 'Maruti', 'Honda', 'Renault', 'Renault', 'Skoda', 'Renault', 'Maruti', 'Maruti', 'Hyundai', 'Honda', 'Tata', 'Tata', 'Mahindra', 'Ford', 'Hyundai', 'Hyundai', 'Tata', 'Maruti', 'Ford', 'MG', 'Honda', 'Honda', 'Maruti', 'Maruti', 'Hyundai', 'Ford', 'Honda', 'Ford', 'Honda', 'Volkswagen', 'Tata', 'KIA', 'Maruti', 'Maruti', 'Renault', 'Hyundai', 'Tata', 'Toyota', 'Tata', 'KIA', 'Honda', 'Hyundai', 'Maruti', 'KIA', 'Maruti', 'Hyundai', 'Maruti', 'Maruti', 'Maruti', 'Hyundai', 'Volkswagen', 'Maruti', 'Mahindra', 'Tata', 'Maruti', 'Maruti', 'Volkswagen', 'Nissan', 'Hyundai', 'Maruti', 'Maruti', 'Ford', 'Maruti', 'Maruti', 'Maruti', 'Maruti', 'Maruti', 'KIA', 'Datsun', 'Hyundai', 'Renault', 'Maruti', 'Honda', 'Hyundai', 'Maruti', 'Mahindra', 'Honda', 'Volkswagen', 'Hyundai', 'Volkswagen', 'Ford', 'Hyundai', 'Hyundai', 'Hyundai', 'Renault', 'Honda', 'Honda', 'Tata', 'Tata', 'Hyundai', 'KIA', 'Maruti', 'Honda', 'Tata', 'Tata', 'Honda', 'Hyundai', 'Maruti', 'Ford', 'Tata', 'Mahindra', 'Tata', 'Maruti', 'Hyundai', 'Renault', 'Renault', 'Maruti', 'Maruti', 'Tata', 'Hyundai', 'Maruti', 'Tata', 'Honda', 'Maruti', 'Maruti', 'Maruti', 'Hyundai', 'Datsun', 'Toyota', 'Ford', 'Hyundai', 'Hyundai', 'Hyundai', 'Maruti', 'Renault', 'Volkswagen', 'Hyundai', 'Tata', 'Hyundai', 'Hyundai', 'Hyundai', 'Maruti', 'Maruti', 'Maruti', 'KIA', 'Maruti', 'Renault', 'Hyundai', 'Hyundai', 'Hyundai', 'Hyundai', 'Tata', 'Tata', 'Maruti', 'Honda', 'Nissan', 'Maruti', 'Honda', 'Tata', 'Maruti', 'Honda', 'Maruti', 'Maruti', 'Maruti', 'Maruti', 'Honda', 'Maruti', 'Hyundai', 'Maruti', 'Tata', 'Skoda', 'KIA', 'Honda', 'Hyundai', 'Tata', 'Tata', 'Maruti', 'Tata', 'Maruti', 'Hyundai', 'Hyundai', 'Hyundai', 'Maruti', 'Hyundai', 'Honda', 'Hyundai', 'Hyundai', 'Tata', 'Maruti', 'Maruti', 'Maruti', 'Maruti', 'Maruti', 'Maruti', 'Nissan', 'Maruti', 'Honda', 'Maruti', 'Hyundai', 'Honda', 'Honda', 'Maruti', 'Hyundai', 'Hyundai', 'Hyundai', 'Renault', 'Maruti', 'Renault', 'Renault', 'Toyota', 'Hyundai', 'Hyundai', 'Maruti', 'Honda', 'Mahindra', 'Hyundai', 'Tata', 'Hyundai', 'Hyundai', 'Maruti', 'Hyundai', 'Maruti', 'Ford', 'Maruti', 'Hyundai', 'Tata', 'Toyota', 'Datsun', 'Maruti', 'Tata', 'Maruti', 'Honda', 'Maruti', 'Mahindra', 'Hyundai', 'Datsun', 'Maruti', 'Hyundai', 'Hyundai', 'Hyundai', 'Hyundai', 'Honda', 'Hyundai', 'Maruti', 'Tata', 'Honda', 'Hyundai', 'Honda', 'Tata', 'Volkswagen', 'Hyundai', 'Tata', 'Toyota', 'Maruti', 'Maruti', 'Hyundai', 'MG', 'Maruti', 'Maruti', 'Maruti', 'KIA', 'Maruti', 'Hyundai', 'Maruti', 'Volkswagen', 'Ford', 'Hyundai', 'Maruti', 'Hyundai', 'Ford', 'Toyota', 'Maruti', 'Jeep', 'Honda', 'Maruti', 'Honda', 'Hyundai', 'Maruti', 'Maruti', 'Tata', 'Maruti', 'Renault', 'Maruti', 'Maruti', 'Maruti', 'Toyota', 'Hyundai', 'Mahindra', 'Maruti', 'Maruti', 'Maruti', 'Hyundai', 'KIA', 'Maruti', 'Toyota', 'Honda', 'Ford', 'Renault']\n"
     ]
    }
   ],
   "source": [
    "print(car_company)"
   ]
  },
  {
   "cell_type": "code",
   "execution_count": 7,
   "id": "7df42460",
   "metadata": {},
   "outputs": [
    {
     "name": "stdout",
     "output_type": "stream",
     "text": [
      "['bangalore', 'bangalore', 'bangalore', 'bangalore', 'bangalore', 'bangalore', 'bangalore', 'bangalore', 'bangalore', 'bangalore', 'bangalore', 'bangalore', 'bangalore', 'bangalore', 'bangalore', 'bangalore', 'bangalore', 'bangalore', 'bangalore', 'bangalore', 'new-delhi', 'new-delhi', 'new-delhi', 'new-delhi', 'new-delhi', 'new-delhi', 'new-delhi', 'new-delhi', 'new-delhi', 'new-delhi', 'new-delhi', 'new-delhi', 'new-delhi', 'new-delhi', 'new-delhi', 'new-delhi', 'new-delhi', 'new-delhi', 'new-delhi', 'new-delhi', 'mumbai', 'mumbai', 'mumbai', 'mumbai', 'mumbai', 'mumbai', 'mumbai', 'mumbai', 'mumbai', 'mumbai', 'mumbai', 'mumbai', 'mumbai', 'mumbai', 'mumbai', 'mumbai', 'mumbai', 'mumbai', 'mumbai', 'mumbai', 'hyderabad', 'hyderabad', 'hyderabad', 'hyderabad', 'hyderabad', 'hyderabad', 'hyderabad', 'hyderabad', 'hyderabad', 'hyderabad', 'hyderabad', 'hyderabad', 'hyderabad', 'hyderabad', 'hyderabad', 'hyderabad', 'hyderabad', 'hyderabad', 'hyderabad', 'hyderabad', 'ahmedabad', 'ahmedabad', 'ahmedabad', 'ahmedabad', 'ahmedabad', 'ahmedabad', 'ahmedabad', 'ahmedabad', 'ahmedabad', 'ahmedabad', 'ahmedabad', 'ahmedabad', 'ahmedabad', 'ahmedabad', 'ahmedabad', 'ahmedabad', 'ahmedabad', 'ahmedabad', 'ahmedabad', 'ahmedabad', 'gurgaon', 'gurgaon', 'gurgaon', 'gurgaon', 'gurgaon', 'gurgaon', 'gurgaon', 'gurgaon', 'gurgaon', 'gurgaon', 'gurgaon', 'gurgaon', 'gurgaon', 'gurgaon', 'gurgaon', 'gurgaon', 'gurgaon', 'gurgaon', 'gurgaon', 'gurgaon', 'chennai', 'chennai', 'chennai', 'chennai', 'chennai', 'chennai', 'chennai', 'chennai', 'chennai', 'chennai', 'chennai', 'chennai', 'chennai', 'chennai', 'chennai', 'chennai', 'chennai', 'chennai', 'chennai', 'chennai', 'pune', 'pune', 'pune', 'pune', 'pune', 'pune', 'pune', 'pune', 'pune', 'pune', 'pune', 'pune', 'pune', 'pune', 'pune', 'pune', 'pune', 'pune', 'pune', 'pune', 'noida', 'noida', 'noida', 'noida', 'noida', 'noida', 'noida', 'noida', 'noida', 'noida', 'noida', 'noida', 'noida', 'noida', 'noida', 'noida', 'noida', 'noida', 'noida', 'noida', 'lucknow', 'lucknow', 'lucknow', 'lucknow', 'lucknow', 'lucknow', 'lucknow', 'lucknow', 'lucknow', 'lucknow', 'lucknow', 'lucknow', 'lucknow', 'lucknow', 'lucknow', 'lucknow', 'lucknow', 'lucknow', 'lucknow', 'lucknow', 'jaipur', 'jaipur', 'jaipur', 'jaipur', 'jaipur', 'jaipur', 'jaipur', 'jaipur', 'jaipur', 'jaipur', 'jaipur', 'jaipur', 'jaipur', 'jaipur', 'jaipur', 'jaipur', 'jaipur', 'jaipur', 'jaipur', 'jaipur', 'kolkata', 'kolkata', 'kolkata', 'kolkata', 'kolkata', 'kolkata', 'kolkata', 'kolkata', 'kolkata', 'kolkata', 'kolkata', 'kolkata', 'kolkata', 'kolkata', 'kolkata', 'kolkata', 'kolkata', 'kolkata', 'kolkata', 'kolkata', 'kochi', 'kochi', 'kochi', 'kochi', 'kochi', 'kochi', 'kochi', 'kochi', 'kochi', 'kochi', 'kochi', 'kochi', 'kochi', 'kochi', 'kochi', 'kochi', 'kochi', 'kochi', 'kochi', 'kochi', 'indore', 'indore', 'indore', 'indore', 'indore', 'indore', 'indore', 'indore', 'indore', 'indore', 'indore', 'indore', 'indore', 'indore', 'indore', 'indore', 'indore', 'indore', 'indore', 'indore', 'chandigarh', 'chandigarh', 'chandigarh', 'chandigarh', 'chandigarh', 'chandigarh', 'chandigarh', 'chandigarh', 'chandigarh', 'chandigarh', 'chandigarh', 'chandigarh', 'chandigarh', 'chandigarh', 'chandigarh', 'chandigarh', 'chandigarh', 'chandigarh', 'chandigarh', 'chandigarh']\n"
     ]
    }
   ],
   "source": [
    "print(location)"
   ]
  },
  {
   "cell_type": "code",
   "execution_count": 8,
   "id": "5b3573be",
   "metadata": {},
   "outputs": [
    {
     "name": "stdout",
     "output_type": "stream",
     "text": [
      "['₹4.64 Lakh', '₹5.74 Lakh', '₹8.49 Lakh', '₹6.16 Lakh', '₹7.73 Lakh', '₹7.32 Lakh', '₹7.85 Lakh', '₹7.35 Lakh', '₹6.54 Lakh', '₹14.32 Lakh', '₹4.83 Lakh', '₹5.55 Lakh', '₹4.69 Lakh', '₹6.08 Lakh', '₹3.30 Lakh', '₹3.44 Lakh', '₹7.34 Lakh', '₹3.65 Lakh', '₹4.31 Lakh', '₹6.94 Lakh', '₹7.74 Lakh', '₹12.79 Lakh', '₹8.46 Lakh', '₹6.96 Lakh', '₹23.22 Lakh', '₹7.74 Lakh', '₹6.79 Lakh', '₹8.23 Lakh', '₹7.28 Lakh', '₹2.73 Lakh', '₹4.57 Lakh', '₹17.22 Lakh', '₹7.95 Lakh', '₹8.03 Lakh', '₹3.63 Lakh', '₹5.11 Lakh', '₹5.77 Lakh', '₹6.57 Lakh', '₹11.19 Lakh', '₹8.06 Lakh', '₹6.46 Lakh', '₹3.83 Lakh', '₹3.94 Lakh', '₹14.60 Lakh', '₹12.28 Lakh', '₹2.74 Lakh', '₹3.87 Lakh', '₹5.17 Lakh', '₹7.92 Lakh', '₹8.16 Lakh', '₹6.51 Lakh', '₹10.04 Lakh', '₹5.31 Lakh', '₹4.65 Lakh', '₹11.86 Lakh', '₹12.22 Lakh', '₹4.91 Lakh', '₹8.76 Lakh', '₹4.87 Lakh', '₹5.25 Lakh', '₹5.75 Lakh', '₹6.12 Lakh', '₹7.41 Lakh', '₹12.33 Lakh', '₹12.83 Lakh', '₹4.85 Lakh', '₹4.23 Lakh', '₹10.84 Lakh', '₹5.76 Lakh', '₹8.68 Lakh', '₹10.10 Lakh', '₹4.91 Lakh', '₹6.03 Lakh', '₹6.46 Lakh', '₹7.51 Lakh', '₹3.73 Lakh', '₹2.33 Lakh', '₹5.26 Lakh', '₹5.83 Lakh', '₹11.47 Lakh', '₹2.30 Lakh', '₹5.77 Lakh', '₹2.91 Lakh', '₹6.20 Lakh', '₹4.71 Lakh', '₹4.87 Lakh', '₹5.12 Lakh', '₹12.44 Lakh', '₹6.79 Lakh', '₹5.09 Lakh', '₹4.93 Lakh', '₹5.74 Lakh', '₹4.55 Lakh', '₹7.04 Lakh', '₹5.32 Lakh', '₹12.77 Lakh', '₹5.63 Lakh', '₹5.73 Lakh', '₹7.45 Lakh', '₹5.26 Lakh', '₹15.52 Lakh', '₹10.60 Lakh', '₹10.05 Lakh', '₹4.92 Lakh', '₹7.00 Lakh', '₹6.90 Lakh', '₹4.56 Lakh', '₹8.32 Lakh', '₹6.66 Lakh', '₹11.85 Lakh', '₹4.95 Lakh', '₹5.23 Lakh', '₹14.00 Lakh', '₹6.05 Lakh', '₹12.20 Lakh', '₹4.22 Lakh', '₹5.93 Lakh', '₹6.37 Lakh', '₹6.87 Lakh', '₹7.65 Lakh', '₹4.05 Lakh', '₹3.90 Lakh', '₹4.47 Lakh', '₹4.57 Lakh', '₹3.14 Lakh', '₹7.02 Lakh', '₹5.58 Lakh', '₹6.75 Lakh', '₹5.12 Lakh', '₹3.70 Lakh', '₹9.68 Lakh', '₹8.60 Lakh', '₹7.29 Lakh', '₹6.60 Lakh', '₹6.65 Lakh', '₹4.40 Lakh', '₹3.96 Lakh', '₹8.00 Lakh', '₹7.95 Lakh', '₹6.84 Lakh', '₹3.76 Lakh', '₹7.89 Lakh', '₹6.66 Lakh', '₹4.69 Lakh', '₹3.51 Lakh', '₹3.47 Lakh', '₹10.72 Lakh', '₹4.93 Lakh', '₹3.80 Lakh', '₹2.87 Lakh', '₹4.35 Lakh', '₹5.06 Lakh', '₹2.85 Lakh', '₹7.29 Lakh', '₹3.85 Lakh', '₹3.81 Lakh', '₹10.33 Lakh', '₹7.19 Lakh', '₹4.24 Lakh', '₹8.52 Lakh', '₹6.07 Lakh', '₹4.46 Lakh', '₹7.96 Lakh', '₹3.94 Lakh', '₹4.50 Lakh', '₹4.72 Lakh', '₹5.70 Lakh', '₹6.08 Lakh', '₹6.45 Lakh', '₹4.75 Lakh', '₹4.12 Lakh', '₹7.39 Lakh', '₹9.26 Lakh', '₹13.45 Lakh', '₹5.41 Lakh', '₹5.30 Lakh', '₹6.74 Lakh', '₹15.95 Lakh', '₹4.19 Lakh', '₹16.43 Lakh', '₹5.59 Lakh', '₹8.15 Lakh', '₹3.96 Lakh', '₹3.97 Lakh', '₹4.82 Lakh', '₹4.83 Lakh', '₹8.04 Lakh', '₹3.97 Lakh', '₹4.63 Lakh', '₹10.11 Lakh', '₹6.77 Lakh', '₹6.94 Lakh', '₹3.14 Lakh', '₹2.66 Lakh', '₹4.22 Lakh', '₹6.06 Lakh', '₹6.89 Lakh', '₹4.94 Lakh', '₹4.92 Lakh', '₹4.91 Lakh', '₹8.07 Lakh', '₹4.51 Lakh', '₹5.01 Lakh', '₹3.34 Lakh', '₹4.80 Lakh', '₹9.03 Lakh', '₹2.42 Lakh', '₹4.85 Lakh', '₹2.97 Lakh', '₹3.57 Lakh', '₹4.09 Lakh', '₹6.85 Lakh', '₹5.73 Lakh', '₹4.36 Lakh', '₹6.97 Lakh', '₹6.58 Lakh', '₹4.16 Lakh', '₹4.71 Lakh', '₹4.87 Lakh', '₹6.12 Lakh', '₹3.64 Lakh', '₹2.29 Lakh', '₹4.03 Lakh', '₹2.40 Lakh', '₹6.18 Lakh', '₹4.18 Lakh', '₹3.99 Lakh', '₹5.97 Lakh', '₹3.01 Lakh', '₹2.52 Lakh', '₹4.85 Lakh', '₹6.35 Lakh', '₹2.95 Lakh', '₹3.50 Lakh', '₹6.39 Lakh', '₹3.57 Lakh', '₹7.05 Lakh', '₹2.97 Lakh', '₹5.59 Lakh', '₹4.84 Lakh', '₹1.89 Lakh', '₹6.03 Lakh', '₹2.76 Lakh', '₹7.48 Lakh', '₹9.42 Lakh', '₹3.94 Lakh', '₹6.36 Lakh', '₹7.39 Lakh', '₹7.47 Lakh', '₹6.76 Lakh', '₹5.73 Lakh', '₹3.99 Lakh', '₹5.27 Lakh', '₹6.74 Lakh', '₹3.74 Lakh', '₹3.01 Lakh', '₹1.51 Lakh', '₹5.19 Lakh', '₹15.49 Lakh', '₹3.72 Lakh', '₹2.99 Lakh', '₹5.76 Lakh', '₹9.68 Lakh', '₹5.28 Lakh', '₹4.79 Lakh', '₹1.94 Lakh', '₹5.21 Lakh', '₹5.06 Lakh', '₹2.50 Lakh', '₹4.73 Lakh', '₹4.36 Lakh', '₹4.96 Lakh', '₹8.18 Lakh', '₹2.81 Lakh', '₹11.10 Lakh', '₹2.66 Lakh', '₹4.39 Lakh', '₹7.05 Lakh', '₹7.87 Lakh', '₹3.20 Lakh', '₹4.39 Lakh', '₹6.48 Lakh', '₹4.78 Lakh', '₹5.73 Lakh', '₹8.34 Lakh', '₹4.60 Lakh', '₹4.45 Lakh', '₹4.78 Lakh', '₹7.04 Lakh', '₹10.11 Lakh', '₹7.51 Lakh', '₹4.14 Lakh', '₹7.01 Lakh', '₹10.51 Lakh', '₹9.68 Lakh', '₹6.47 Lakh', '₹8.53 Lakh', '₹8.78 Lakh', '₹4.60 Lakh', '₹5.19 Lakh']\n"
     ]
    }
   ],
   "source": [
    "print(price)"
   ]
  },
  {
   "cell_type": "code",
   "execution_count": 9,
   "id": "0d26f8f3",
   "metadata": {},
   "outputs": [
    {
     "name": "stdout",
     "output_type": "stream",
     "text": [
      "[' ₹12,219', ' ₹12,768', ' ₹16,160', ' ₹12,043', ' ₹15,106', ' ₹14,311', ' ₹17,462', ' ₹14,370', ' ₹12,786', ' ₹27,257', ' ₹9,439', ' ₹10,851', ' ₹9,169', ' ₹11,887', ' ₹6,455', ' ₹6,732', ' ₹14,355', ' ₹7,132', ' ₹8,426', ' ₹13,573', ' ₹15,128', ' ₹24,345', ' ₹16,103', ' ₹13,610', ' ₹44,197', ' ₹15,132', ' ₹13,281', ' ₹15,657', ' ₹14,242', ' ₹6,069', ' ₹8,934', ' ₹32,777', ' ₹15,537', ' ₹15,287', ' ₹7,097', ' ₹9,990', ' ₹11,280', ' ₹12,853', ' ₹21,299', ' ₹15,342', ' ₹12,629', ' ₹7,493', ' ₹7,703', ' ₹27,790', ' ₹23,374', ' ₹12,908', ' ₹7,560', ' ₹10,112', ' ₹15,484', ' ₹15,532', ' ₹12,736', ' ₹19,116', ' ₹11,812', ' ₹9,098', ' ₹22,574', ' ₹23,267', ' ₹9,591', ' ₹16,674', ' ₹16,162', ' ₹10,264', ' ₹11,247', ' ₹11,956', ' ₹14,487', ' ₹23,469', ' ₹24,421', ' ₹9,482', ' ₹14,043', ' ₹20,633', ' ₹12,813', ' ₹16,522', ' ₹19,227', ' ₹9,602', ' ₹11,789', ' ₹12,629', ' ₹14,682', ' ₹7,294', ' ₹5,183', ' ₹10,282', ' ₹11,392', ' ₹21,832', ' ₹4,494', ' ₹11,290', ' ₹5,689', ' ₹12,124', ' ₹10,477', ' ₹9,521', ' ₹10,010', ' ₹23,678', ' ₹13,275', ' ₹9,951', ' ₹12,983', ' ₹11,230', ' ₹10,121', ' ₹13,760', ' ₹10,401', ' ₹24,315', ' ₹11,011', ' ₹11,202', ' ₹14,565', ' ₹10,283', ' ₹29,541', ' ₹20,176', ' ₹19,120', ' ₹9,619', ' ₹13,685', ' ₹13,481', ' ₹8,911', ' ₹15,836', ' ₹13,020', ' ₹22,557', ' ₹9,675', ' ₹10,225', ' ₹26,644', ' ₹11,828', ' ₹23,217', ' ₹8,251', ' ₹11,590', ' ₹12,457', ' ₹13,431', ' ₹14,951', ' ₹7,921', ' ₹7,625', ' ₹8,743', ' ₹8,934', ' ₹8,277', ' ₹13,732', ' ₹10,909', ' ₹13,204', ' ₹10,011', ' ₹7,234', ' ₹18,426', ' ₹16,369', ' ₹14,259', ' ₹12,910', ' ₹13,001', ' ₹8,600', ' ₹7,734', ' ₹15,227', ' ₹15,542', ' ₹13,363', ' ₹8,373', ' ₹15,425', ' ₹13,020', ' ₹9,169', ' ₹9,237', ' ₹6,786', ' ₹20,405', ' ₹9,638', ' ₹7,429', ' ₹7,552', ' ₹8,504', ' ₹9,894', ' ₹7,496', ' ₹14,252', ' ₹7,527', ' ₹7,443', ' ₹19,664', ' ₹14,057', ' ₹8,289', ' ₹16,217', ' ₹11,861', ' ₹8,715', ' ₹15,561', ' ₹7,708', ' ₹8,797', ' ₹9,224', ' ₹12,679', ' ₹11,887', ' ₹12,610', ' ₹9,289', ' ₹8,052', ' ₹14,448', ' ₹17,625', ' ₹25,601', ' ₹10,572', ' ₹10,362', ' ₹13,182', ' ₹30,359', ' ₹9,313', ' ₹31,273', ' ₹10,925', ' ₹15,513', ' ₹7,750', ' ₹7,756', ' ₹9,415', ' ₹9,433', ' ₹15,309', ' ₹7,756', ' ₹9,061', ' ₹19,247', ' ₹13,235', ' ₹13,571', ' ₹8,268', ' ₹5,917', ' ₹8,250', ' ₹11,840', ' ₹13,474', ' ₹9,658', ' ₹9,619', ' ₹9,599', ' ₹15,361', ' ₹8,812', ' ₹9,795', ' ₹8,796', ' ₹9,378', ' ₹17,188', ' ₹5,383', ' ₹9,482', ' ₹6,596', ' ₹6,983', ' ₹7,996', ' ₹13,392', ' ₹11,195', ' ₹8,524', ' ₹13,621', ' ₹14,637', ' ₹8,133', ' ₹9,208', ' ₹9,521', ' ₹11,965', ' ₹9,586', ' ₹4,477', ' ₹7,884', ' ₹4,692', ' ₹12,085', ' ₹8,172', ' ₹7,801', ' ₹11,675', ' ₹6,696', ' ₹4,927', ' ₹9,491', ' ₹12,417', ' ₹5,774', ' ₹7,786', ' ₹12,491', ' ₹6,972', ' ₹13,783', ' ₹5,806', ' ₹10,929', ' ₹9,462', ' ₹6,288', ' ₹11,789', ' ₹5,387', ' ₹14,624', ' ₹17,930', ' ₹7,705', ' ₹12,434', ' ₹14,448', ' ₹14,604', ' ₹13,216', ' ₹11,206', ' ₹7,802', ' ₹10,303', ' ₹13,177', ' ₹17,605', ' ₹5,885', ' ₹13,416', ' ₹10,147', ' ₹29,484', ' ₹7,278', ' ₹6,652', ' ₹11,261', ' ₹18,425', ' ₹10,323', ' ₹9,365', ' ₹5,109', ' ₹10,186', ' ₹9,901', ' ₹6,583', ' ₹9,247', ' ₹8,524', ' ₹9,697', ' ₹15,569', ' ₹7,397', ' ₹21,128', ' ₹7,005', ' ₹8,583', ' ₹13,779', ' ₹15,386', ' ₹6,257', ' ₹8,583', ' ₹12,676', ' ₹9,345', ' ₹11,202', ' ₹15,874', ' ₹10,225', ' ₹9,899', ' ₹22,501', ' ₹13,763', ' ₹19,252', ' ₹14,682', ' ₹8,087', ' ₹13,713', ' ₹20,005', ' ₹18,425', ' ₹12,649', ' ₹18,546', ' ₹16,712', ' ₹10,232', ' ₹10,147']\n"
     ]
    }
   ],
   "source": [
    "print(EMI)"
   ]
  },
  {
   "cell_type": "code",
   "execution_count": 10,
   "id": "1f493a93",
   "metadata": {},
   "outputs": [
    {
     "name": "stdout",
     "output_type": "stream",
     "text": [
      "300 \n",
      " 300 \n",
      " 300 \n",
      " 300 \n",
      " 300 \n",
      " 300\n"
     ]
    }
   ],
   "source": [
    "#checking whether the lists contain same number of elements or not \n",
    "print(len(car_name),'\\n',len(car_model_year),'\\n',len(car_company),'\\n',len(location),'\\n',len(price),'\\n',len(EMI))"
   ]
  },
  {
   "cell_type": "code",
   "execution_count": 11,
   "id": "c9cbe762",
   "metadata": {},
   "outputs": [
    {
     "name": "stdout",
     "output_type": "stream",
     "text": [
      "{'Car Name': ['Honda City 1.5L I-VTEC V MT', 'Renault Duster 110 PS RXL DIESEL', 'Tata PUNCH ACCOMPLISHED AMT', 'Ford Ecosport TITANIUM 1.5L PETROL', 'Renault Duster 85 PS RXZ DIESEL', 'Hyundai VENUE S 1.2', 'Mahindra XUV500 W6', 'Tata ALTROZ XZ PETROL', 'Maruti Baleno RS 1.0 PETROL', 'MG HECTOR SHARP 1.5 DCT PETROL', 'Hyundai Grand i10 MAGNA 1.2 KAPPA VTVT', 'Tata TIGOR XZ (O) PETROL', 'Maruti Celerio ZXI AMT (O)', 'Honda City 1.5L I-VTEC SV', 'Renault Kwid RXT 1.0', 'Renault Kwid RXT 1.0 (O)', 'Skoda Rapid AMBITION 1.6 MPI MT', 'Renault Kwid RXT 1.0 AMT (O)', 'Maruti Wagon R 1.0 VXI AMT', 'Maruti Baleno ZETA PETROL 1.2', 'Hyundai Verna 1.6 VTVT SX', 'Honda City 1.5L I-VTE V CVT', 'Tata PUNCH CREATIVE  1.2 RTN DUAL TONE', 'Tata NEXON XMA DIESEL', 'Mahindra XUV700 AX 7 LUXURY D AWD AT 7 STR', 'Ford Ecosport TITANIUM + 1.5L PETROL AT', 'Hyundai GRAND I10 NIOS SPORTZ 1.2 KAPPA VTVT', 'Hyundai Creta E PLUS 1.6 PETROL', 'Tata PUNCH  ACCOMPLISHED AMT CAMO EDITION', 'Maruti Alto K10 VXI AMT', 'Ford Ecosport TITANIUM 1.5L PETROL AT', 'MG HECTOR SHARP 1.5 PETROL CVT', 'Honda City 1.5L I-VTEC ZX CVT', 'Honda WR-V 1.2L I-VTEC SV MT', 'Maruti Wagon R 1.0 VXI', 'Maruti Dzire LXI', 'Hyundai AURA S 1.2', 'Ford Ecosport TITANIUM 1.5L PETROL', 'Honda City 1.5L I-VTEC ZX CVT', 'Ford Ecosport TITANIUM 1.5L PETROL AT', 'Honda BR-V 1.5L I-VTEC V', 'Volkswagen Polo COMFORTLINE 1.2L', 'Tata Tiago XZ PETROL', 'KIA SELTOS GTX (O) 1.4', 'Maruti XL6 ZETA CNG', 'Maruti Wagon R 1.0 LXI CNG', 'Renault Kwid RXL', 'Hyundai Elite i20 MAGNA EXECUTIVE 1.2', 'Tata TIGOR XZ PLUS CNG', 'Toyota URBAN CRUISER MID GRADE MT', 'Tata NEXON XE PETROL', 'KIA SONET GTX PLUS 1.0 IMT', 'Honda City 1.5L I-VTEC VX', 'Hyundai i20 Active 1.2 S', 'Maruti XL6 ALPHA PLUS MT', 'KIA SONET GTX PLUS 1.5', 'Maruti Baleno ZETA PETROL 1.2', 'Hyundai NEW I20 Sportz 1.2 IVT', 'Maruti Swift Dzire VDI', 'Maruti New Wagon-R LXI CNG 1.0', 'Maruti Swift LXI', 'Hyundai Elite i20 ASTA 1.2', 'Volkswagen Polo GT TSI AT', 'Maruti Grand Vitara DELTA SMART HYBRID', 'Mahindra Thar LX HT PETROL 4WD MT', 'Tata Tiago XZA PETROL', 'Maruti Swift Dzire VDI', 'Maruti Ertiga VXI AT SHVS', 'Volkswagen Ameo HIGHLINE1.5L', 'Nissan MAGNITE XV TURBO CVT DUAL TONE', 'Hyundai Verna SX 1.5 VTVT', 'Maruti Baleno DELTA PETROL 1.2', 'Maruti Dzire VXI', 'Ford Ecosport TITANIUM 1.5L DIESEL', 'Maruti Vitara Brezza ZDI', 'Maruti S PRESSO VXI', 'Maruti Alto 800 LXI', 'Maruti Swift ZXI', 'Maruti Dzire VXI AMT', 'KIA SELTOS HTK PLUS 1.5', 'Datsun Redi Go T(O) 1.0L LIMITED EDITION', 'Hyundai Elite i20 ASTA 1.2 (O)', 'Renault Kwid RXL', 'Maruti Swift VXI', 'Honda City 1.5L I-VTEC E MT', 'Hyundai Elite i20 MAGNA 1.2', 'Maruti Ciaz ZDI SHVS', 'Mahindra Thar LX HT PETROL 4WD MT', 'Honda Amaze 1.2L I-VTEC VX', 'Volkswagen Polo HIGHLINE PLUS 1.2(16 ALLOY', 'Hyundai Elite i20 ASTA 1.2', 'Volkswagen Polo COMFORTLINE 1.0L MPI', 'Ford Ecosport TITANIUM+ 1.0L ECOBOOST', 'Hyundai Elite i20 SPORTZ PLUS 1.4 CRDI', 'Hyundai GRAND I10 NIOS MAGNA 1.2 KAPPA VTVT', 'Hyundai Creta SX 1.5 PETROL', 'Renault TRIBER RXL MT', 'Honda City 1.5L I-VTEC V MT', 'Honda Amaze 1.2L I-VTEC S', 'Tata Tiago XT (O) PETROL', 'Tata Harrier XT PLUS 2.0L KRYOTEC DARK EDITON', 'Hyundai Verna SX 1.5 CRDI', 'KIA SELTOS HTE 1.5 DIESEL', 'Maruti IGNIS SIGMA 1.2', 'Honda City 1.5L I-VTEC V MT', 'Tata Tiago XZ PLUS CNG', 'Tata Tiago XZ PETROL', 'Honda City 1.5L I-VTEC ZX CVT', 'Hyundai AURA S 1.2', 'Maruti XL6 ALPHA PLUS AT', 'Ford FREESTYLE TITANIUM PLUS 1.2 PETROL', 'Tata Tiago XE PETROL', 'Mahindra XUV500 W7 AT', 'Tata TIGOR XM PETROL', 'Maruti XL6 ALPHA PLUS MT', 'Hyundai Grand i10 ASTA 1.2 KAPPA VTVT', 'Renault TRIBER RXZ', 'Renault TRIBER RXL MT', 'Maruti Ciaz DELTA AT 1.5 SHVS PETROL', 'Maruti Ciaz ALPHA 1.5 SHVS PETROL', 'Tata Tiago XZ PETROL', 'Hyundai i10 SPORTZ 1.1', 'Maruti Swift VXI', 'Tata Tiago XE PETROL', 'Honda Brio S MT', 'Maruti Swift VXI', 'Maruti Dzire VXI', 'Maruti Vitara Brezza ZDI', 'Hyundai Elite i20 SPORTZ 1.2', 'Datsun Redi Go T(O) 1.0', 'Toyota URBAN CRUISER PREMIUM GRADE MT', 'Ford Ecosport TITANIUM 1.5L PETROL', 'Hyundai GRAND I10 NIOS SPORTZ AMT 1.2 KAPPA VTVT', 'Hyundai AURA SX 1.2', 'Hyundai Elite i20 SPORTZ PLUS 1.2', 'Maruti IGNIS DELTA 1.2', 'Renault Kwid RXT 1.0 (O)', 'Volkswagen Vento HIGHLINE PETROL AT', 'Hyundai Verna 1.6 EX CRDI', 'Tata ALTROZ XT PETROL', 'Hyundai Grand i10 SPORTZ 1.2 KAPPA VTVT', 'Hyundai NEW I20 ASTA (O) 1.2 MT', 'Hyundai GRAND I10 NIOS SPORTZ 1.2 KAPPA VTVT', 'Maruti Swift VXI', 'Maruti Swift VXI', 'Maruti Alto K10 VXI', 'KIA SELTOS HTK PLUS 1.5', 'Maruti Swift VXI', 'Renault Kwid RXT 0.8 (O)', 'Hyundai i10 SPORTZ 1.1', 'Hyundai Xcent E+', 'Hyundai NEW SANTRO SPORTZ CNG', 'Hyundai i10 ASTA 1.2', 'Tata NEXON XZ PLUS DIESEL', 'Tata Zest XT PETROL', 'Maruti Alto VXI', 'Honda City 1.5L I-VTEC VX', 'Nissan MAGNITE XV MT', 'Maruti Wagon R 1.0 VXI', 'Honda City 1.5L I-VTEC ZX CVT', 'Tata ALTROZ XT PETROL', 'Maruti Celerio VXI CNG', 'Honda WR-V 1.2L I-VTEC VX MT', 'Maruti Celerio VXI AMT', 'Maruti Baleno DELTA CVT PETROL 1.2', 'Maruti IGNIS DELTA 1.2', 'Maruti Dzire ZXI PLUS', 'Honda BR-V 1.5L I-VTEC V', 'Maruti Baleno DELTA PETROL 1.2', 'Hyundai Xcent S 1.2', 'Maruti S PRESSO VXI PLUS AMT', 'Tata TIGOR XM CNG', 'Skoda Rapid STYLE TSI', 'KIA CARENS LUXURY PLUS 1.4 PETROL 6 STR', 'Honda WR-V 1.2L I-VTEC S MT', 'Hyundai Elite i20 ASTA 1.2 (O)', 'Tata PUNCH ACCOMPLISHED MT', 'Tata Safari XZ', 'Maruti Ciaz VXI', 'Tata Harrier XZA PLUS 2.0L DARK EDITION', 'Maruti Baleno ZETA PETROL 1.2', 'Hyundai Creta SX PLUS 1.6 PETROL', 'Hyundai Grand i10 MAGNA 1.2 KAPPA VTVT', 'Hyundai NEW SANTRO MAGNA', 'Maruti New Wagon-R VXI 1.0', 'Hyundai Grand i10 SPORTZ 1.2 KAPPA VTVT', 'Honda Amaze 1.2L I-VTEC S CVT', 'Hyundai NEW SANTRO MAGNA', 'Hyundai NEW SANTRO SPORTZ AMT', 'Tata Harrier XT 2.0L KRYOTEC', 'Maruti Vitara Brezza ZDI AMT', 'Maruti Vitara Brezza VDI', 'Maruti Swift Dzire VXI', 'Maruti Wagon R 1.0 VXI', 'Maruti Swift VXI O', 'Maruti Baleno DELTA PETROL 1.2', 'Nissan MAGNITE XV PREMIUM DUAL TONE', 'Maruti Baleno DELTA DIESEL 1.3', 'Honda City 1.5L I-VTEC V MT', 'Maruti Baleno DELTA PETROL 1.2', 'Hyundai Creta SX PLUS 1.6 PETROL', 'Honda Jazz 1.2L I-VTEC V AT', 'Honda WR-V 1.2L I-VTEC S MT', 'Maruti Swift LDI', 'Hyundai Elite i20 ASTA 1.2', 'Hyundai Verna S PLUS 1.5 VTVT', 'Hyundai i10 MAGNA 1.1', 'Renault Duster 85 PS RXE DIESEL', 'Maruti Wagon R 1.0 VXI', 'Renault Kwid RXT 1.0 (O)', 'Renault Kwid CLIMBER 1.0 (O)', 'Toyota Glanza V', 'Hyundai AURA S 1.2', 'Hyundai Grand i10 SPORTZ 1.2 KAPPA VTVT', 'Maruti Baleno ZETA PETROL 1.2', 'Honda City 1.5L I-DTEC V', 'Mahindra KUV 100 NXT K4+ P 6 STR', 'Hyundai NEW SANTRO SPORTZ AMT', 'Tata TIGOR XZA PETROL', 'Hyundai GRAND I10 NIOS SPORTZ AMT 1.2 KAPPA VTVT', 'Hyundai Verna FLUIDIC 1.6 VTVT SX', 'Maruti Alto K10 LXI', 'Hyundai Grand i10 MAGNA 1.2 KAPPA VTVT', 'Maruti Alto 800 LXI', 'Ford Ecosport TITANIUM 1.5L PETROL', 'Maruti S PRESSO VXI+', 'Hyundai Grand i10 SPORTZ (O) AT 1.2 KAPPA VTVT', 'Tata NEXON XM PETROL', 'Toyota Etios CROSS 1.2 G', 'Datsun Go T', 'Maruti Swift VXI', 'Tata ALTROZ XZ PLUS PETROL', 'Maruti Wagon R 1.0 VXI', 'Honda City 1.5L I-VTEC E MT', 'Maruti Swift VXI', 'Mahindra KUV 100 NXT K4+ P 6 STR', 'Hyundai Verna 1.6 VTVT SX O', 'Datsun Redi Go A', 'Maruti Dzire ZXI PLUS AMT', 'Hyundai Elite i20 SPORTZ PLUS 1.2', 'Hyundai Eon SPORTZ', 'Hyundai Elite i20 SPORTZ 1.2', 'Hyundai Eon ERA +', 'Honda City 1.5L I-VTEC VX', 'Hyundai VENUE SX 1.0 TURBO', 'Maruti Alto LXI O', 'Tata NEXON XM PETROL', 'Honda Amaze 1.2L I-VTEC V CVT', 'Hyundai VENUE S 1.2', 'Honda City 1.5L I-VTEC V MT', 'Tata Tiago XZ PETROL', 'Volkswagen Ameo COMFORTLINE PLUS 1.2L', 'Hyundai Elite i20 SPORTZ 1.2', 'Tata TIAGO NRG XZ MT', 'Toyota Etios Liva GD', 'Maruti Wagon R 1.0 LXI', 'Maruti Alto LXI', 'Hyundai Elite i20 ASTA 1.2', 'MG HECTOR PLUS SUPER 2.0 DIESEL TURBO MT 7-STR', 'Maruti Celerio VXI AMT', 'Maruti Celerio VXI', 'Maruti Baleno ZETA CVT PETROL 1.2', 'KIA SELTOS HTK PLUS 1.5', 'Maruti Baleno SIGMA PETROL 1.2', 'Hyundai Elite i20 SPORTZ 1.2', 'Maruti Alto K10 LXI', 'Volkswagen Polo TRENDLINE 1.0L', 'Ford Ecosport TREND 1.5L PETROL', 'Hyundai i10 SPORTZ 1.2', 'Maruti Swift VXI', 'Hyundai Elite i20 MAGNA 1.2', 'Ford Ecosport TREND+ 1.0L ECOBOOST', 'Toyota URBAN CRUISER MID GRADE MT', 'Maruti Wagon R 1.0 LXI', 'Jeep Compass LONGITUDE 2.0 DIESEL', 'Honda Brio S MT', 'Maruti New Wagon-R VXI (O) 1.2', 'Honda Amaze 1.2L I-VTEC VX', 'Hyundai VENUE S 1.2', 'Maruti Alto LXI', 'Maruti S PRESSO VXI PLUS AMT', 'Tata Tiago XZ PLUS PETROL', 'Maruti Celerio ZXI', 'Renault Kwid RXT 1.0 AMT', 'Maruti Ciaz ALPHA 1.5 SHVS PETROL', 'Maruti Vitara Brezza VDI (O)', 'Maruti Swift Dzire VDI ABS', 'Toyota Innova 2.5 GX 8 STR', 'Hyundai AURA SX 1.2', 'Mahindra XUV500 W7', 'Maruti Vitara Brezza ZDI PLUS', 'Maruti Celerio ZXI', 'Maruti Baleno ZETA PETROL 1.2', 'Hyundai Verna 1.6 CRDI SX (O) AT', 'KIA SELTOS HTK PLUS 1.5 DIESEL', 'Maruti Swift ZXI', 'Toyota Innova 2.5 VX 8 STR', 'Honda City 1.5L I-VTEC V MT 4TH GEN', 'Ford Ecosport TITANIUM 1.5L DIESEL', 'Renault Duster 85 PS RXZ DIESEL'], 'Car Model Year': ['2013', '2015', '2021', '2016', '2017', '2020', '2015', '2020', '2018', '2019', '2018', '2018', '2019', '2015', '2016', '2017', '2017', '2017', '2016', '2019', '2018', '2023', '2022', '2020', '2022', '2019', '2023', '2018', '2022', '2014', '2015', '2022', '2017', '2022', '2017', '2019', '2020', '2018', '2020', '2019', '2016', '2015', '2016', '2022', '2023', '2013', '2020', '2017', '2023', '2021', '2021', '2020', '2014', '2016', '2023', '2022', '2017', '2022', '2013', '2020', '2021', '2017', '2019', '2023', '2021', '2018', '2013', '2022', '2017', '2022', '2020', '2016', '2019', '2017', '2016', '2019', '2014', '2016', '2018', '2021', '2018', '2017', '2018', '2021', '2014', '2015', '2016', '2021', '2021', '2018', '2015', '2020', '2015', '2019', '2020', '2022', '2022', '2015', '2023', '2021', '2022', '2020', '2021', '2022', '2018', '2022', '2020', '2017', '2023', '2022', '2018', '2023', '2021', '2023', '2022', '2016', '2020', '2023', '2018', '2019', '2016', '2015', '2015', '2021', '2013', '2022', '2018', '2016', '2015', '2021', '2022', '2020', '2022', '2020', '2020', '2018', '2019', '2018', '2018', '2022', '2014', '2021', '2022', '2016', '2013', '2017', '2021', '2016', '2019', '2013', '2017', '2019', '2013', '2017', '2016', '2019', '2020', '2022', '2017', '2018', '2021', '2019', '2021', '2016', '2016', '2019', '2019', '2016', '2021', '2018', '2019', '2023', '2021', '2022', '2018', '2018', '2022', '2021', '2016', '2022', '2018', '2017', '2018', '2019', '2020', '2018', '2022', '2019', '2019', '2019', '2019', '2019', '2013', '2014', '2017', '2020', '2021', '2017', '2015', '2019', '2017', '2017', '2018', '2014', '2015', '2021', '2014', '2017', '2014', '2020', '2021', '2021', '2020', '2018', '2022', '2018', '2018', '2020', '2018', '2021', '2013', '2016', '2018', '2017', '2018', '2021', '2017', '2019', '2014', '2018', '2019', '2020', '2015', '2014', '2023', '2017', '2018', '2020', '2018', '2019', '2012', '2017', '2016', '2017', '2022', '2022', '2019', '2019', '2021', '2016', '2021', '2016', '2017', '2022', '2012', '2015', '2010', '2015', '2021', '2015', '2014', '2017', '2020', '2017', '2018', '2013', '2021', '2017', '2013', '2016', '2017', '2017', '2022', '2013', '2018', '2013', '2019', '2022', '2022', '2019', '2019', '2023', '2019', '2023', '2019', '2016', '2015', '2012', '2023', '2020', '2019', '2018', '2022', '2020', '2020', '2021', '2015', '2022', '2016', '2017'], 'Car Company': ['Honda', 'Renault', 'Tata', 'Ford', 'Renault', 'Hyundai', 'Mahindra', 'Tata', 'Maruti', 'MG', 'Hyundai', 'Tata', 'Maruti', 'Honda', 'Renault', 'Renault', 'Skoda', 'Renault', 'Maruti', 'Maruti', 'Hyundai', 'Honda', 'Tata', 'Tata', 'Mahindra', 'Ford', 'Hyundai', 'Hyundai', 'Tata', 'Maruti', 'Ford', 'MG', 'Honda', 'Honda', 'Maruti', 'Maruti', 'Hyundai', 'Ford', 'Honda', 'Ford', 'Honda', 'Volkswagen', 'Tata', 'KIA', 'Maruti', 'Maruti', 'Renault', 'Hyundai', 'Tata', 'Toyota', 'Tata', 'KIA', 'Honda', 'Hyundai', 'Maruti', 'KIA', 'Maruti', 'Hyundai', 'Maruti', 'Maruti', 'Maruti', 'Hyundai', 'Volkswagen', 'Maruti', 'Mahindra', 'Tata', 'Maruti', 'Maruti', 'Volkswagen', 'Nissan', 'Hyundai', 'Maruti', 'Maruti', 'Ford', 'Maruti', 'Maruti', 'Maruti', 'Maruti', 'Maruti', 'KIA', 'Datsun', 'Hyundai', 'Renault', 'Maruti', 'Honda', 'Hyundai', 'Maruti', 'Mahindra', 'Honda', 'Volkswagen', 'Hyundai', 'Volkswagen', 'Ford', 'Hyundai', 'Hyundai', 'Hyundai', 'Renault', 'Honda', 'Honda', 'Tata', 'Tata', 'Hyundai', 'KIA', 'Maruti', 'Honda', 'Tata', 'Tata', 'Honda', 'Hyundai', 'Maruti', 'Ford', 'Tata', 'Mahindra', 'Tata', 'Maruti', 'Hyundai', 'Renault', 'Renault', 'Maruti', 'Maruti', 'Tata', 'Hyundai', 'Maruti', 'Tata', 'Honda', 'Maruti', 'Maruti', 'Maruti', 'Hyundai', 'Datsun', 'Toyota', 'Ford', 'Hyundai', 'Hyundai', 'Hyundai', 'Maruti', 'Renault', 'Volkswagen', 'Hyundai', 'Tata', 'Hyundai', 'Hyundai', 'Hyundai', 'Maruti', 'Maruti', 'Maruti', 'KIA', 'Maruti', 'Renault', 'Hyundai', 'Hyundai', 'Hyundai', 'Hyundai', 'Tata', 'Tata', 'Maruti', 'Honda', 'Nissan', 'Maruti', 'Honda', 'Tata', 'Maruti', 'Honda', 'Maruti', 'Maruti', 'Maruti', 'Maruti', 'Honda', 'Maruti', 'Hyundai', 'Maruti', 'Tata', 'Skoda', 'KIA', 'Honda', 'Hyundai', 'Tata', 'Tata', 'Maruti', 'Tata', 'Maruti', 'Hyundai', 'Hyundai', 'Hyundai', 'Maruti', 'Hyundai', 'Honda', 'Hyundai', 'Hyundai', 'Tata', 'Maruti', 'Maruti', 'Maruti', 'Maruti', 'Maruti', 'Maruti', 'Nissan', 'Maruti', 'Honda', 'Maruti', 'Hyundai', 'Honda', 'Honda', 'Maruti', 'Hyundai', 'Hyundai', 'Hyundai', 'Renault', 'Maruti', 'Renault', 'Renault', 'Toyota', 'Hyundai', 'Hyundai', 'Maruti', 'Honda', 'Mahindra', 'Hyundai', 'Tata', 'Hyundai', 'Hyundai', 'Maruti', 'Hyundai', 'Maruti', 'Ford', 'Maruti', 'Hyundai', 'Tata', 'Toyota', 'Datsun', 'Maruti', 'Tata', 'Maruti', 'Honda', 'Maruti', 'Mahindra', 'Hyundai', 'Datsun', 'Maruti', 'Hyundai', 'Hyundai', 'Hyundai', 'Hyundai', 'Honda', 'Hyundai', 'Maruti', 'Tata', 'Honda', 'Hyundai', 'Honda', 'Tata', 'Volkswagen', 'Hyundai', 'Tata', 'Toyota', 'Maruti', 'Maruti', 'Hyundai', 'MG', 'Maruti', 'Maruti', 'Maruti', 'KIA', 'Maruti', 'Hyundai', 'Maruti', 'Volkswagen', 'Ford', 'Hyundai', 'Maruti', 'Hyundai', 'Ford', 'Toyota', 'Maruti', 'Jeep', 'Honda', 'Maruti', 'Honda', 'Hyundai', 'Maruti', 'Maruti', 'Tata', 'Maruti', 'Renault', 'Maruti', 'Maruti', 'Maruti', 'Toyota', 'Hyundai', 'Mahindra', 'Maruti', 'Maruti', 'Maruti', 'Hyundai', 'KIA', 'Maruti', 'Toyota', 'Honda', 'Ford', 'Renault'], 'Location': ['bangalore', 'bangalore', 'bangalore', 'bangalore', 'bangalore', 'bangalore', 'bangalore', 'bangalore', 'bangalore', 'bangalore', 'bangalore', 'bangalore', 'bangalore', 'bangalore', 'bangalore', 'bangalore', 'bangalore', 'bangalore', 'bangalore', 'bangalore', 'new-delhi', 'new-delhi', 'new-delhi', 'new-delhi', 'new-delhi', 'new-delhi', 'new-delhi', 'new-delhi', 'new-delhi', 'new-delhi', 'new-delhi', 'new-delhi', 'new-delhi', 'new-delhi', 'new-delhi', 'new-delhi', 'new-delhi', 'new-delhi', 'new-delhi', 'new-delhi', 'mumbai', 'mumbai', 'mumbai', 'mumbai', 'mumbai', 'mumbai', 'mumbai', 'mumbai', 'mumbai', 'mumbai', 'mumbai', 'mumbai', 'mumbai', 'mumbai', 'mumbai', 'mumbai', 'mumbai', 'mumbai', 'mumbai', 'mumbai', 'hyderabad', 'hyderabad', 'hyderabad', 'hyderabad', 'hyderabad', 'hyderabad', 'hyderabad', 'hyderabad', 'hyderabad', 'hyderabad', 'hyderabad', 'hyderabad', 'hyderabad', 'hyderabad', 'hyderabad', 'hyderabad', 'hyderabad', 'hyderabad', 'hyderabad', 'hyderabad', 'ahmedabad', 'ahmedabad', 'ahmedabad', 'ahmedabad', 'ahmedabad', 'ahmedabad', 'ahmedabad', 'ahmedabad', 'ahmedabad', 'ahmedabad', 'ahmedabad', 'ahmedabad', 'ahmedabad', 'ahmedabad', 'ahmedabad', 'ahmedabad', 'ahmedabad', 'ahmedabad', 'ahmedabad', 'ahmedabad', 'gurgaon', 'gurgaon', 'gurgaon', 'gurgaon', 'gurgaon', 'gurgaon', 'gurgaon', 'gurgaon', 'gurgaon', 'gurgaon', 'gurgaon', 'gurgaon', 'gurgaon', 'gurgaon', 'gurgaon', 'gurgaon', 'gurgaon', 'gurgaon', 'gurgaon', 'gurgaon', 'chennai', 'chennai', 'chennai', 'chennai', 'chennai', 'chennai', 'chennai', 'chennai', 'chennai', 'chennai', 'chennai', 'chennai', 'chennai', 'chennai', 'chennai', 'chennai', 'chennai', 'chennai', 'chennai', 'chennai', 'pune', 'pune', 'pune', 'pune', 'pune', 'pune', 'pune', 'pune', 'pune', 'pune', 'pune', 'pune', 'pune', 'pune', 'pune', 'pune', 'pune', 'pune', 'pune', 'pune', 'noida', 'noida', 'noida', 'noida', 'noida', 'noida', 'noida', 'noida', 'noida', 'noida', 'noida', 'noida', 'noida', 'noida', 'noida', 'noida', 'noida', 'noida', 'noida', 'noida', 'lucknow', 'lucknow', 'lucknow', 'lucknow', 'lucknow', 'lucknow', 'lucknow', 'lucknow', 'lucknow', 'lucknow', 'lucknow', 'lucknow', 'lucknow', 'lucknow', 'lucknow', 'lucknow', 'lucknow', 'lucknow', 'lucknow', 'lucknow', 'jaipur', 'jaipur', 'jaipur', 'jaipur', 'jaipur', 'jaipur', 'jaipur', 'jaipur', 'jaipur', 'jaipur', 'jaipur', 'jaipur', 'jaipur', 'jaipur', 'jaipur', 'jaipur', 'jaipur', 'jaipur', 'jaipur', 'jaipur', 'kolkata', 'kolkata', 'kolkata', 'kolkata', 'kolkata', 'kolkata', 'kolkata', 'kolkata', 'kolkata', 'kolkata', 'kolkata', 'kolkata', 'kolkata', 'kolkata', 'kolkata', 'kolkata', 'kolkata', 'kolkata', 'kolkata', 'kolkata', 'kochi', 'kochi', 'kochi', 'kochi', 'kochi', 'kochi', 'kochi', 'kochi', 'kochi', 'kochi', 'kochi', 'kochi', 'kochi', 'kochi', 'kochi', 'kochi', 'kochi', 'kochi', 'kochi', 'kochi', 'indore', 'indore', 'indore', 'indore', 'indore', 'indore', 'indore', 'indore', 'indore', 'indore', 'indore', 'indore', 'indore', 'indore', 'indore', 'indore', 'indore', 'indore', 'indore', 'indore', 'chandigarh', 'chandigarh', 'chandigarh', 'chandigarh', 'chandigarh', 'chandigarh', 'chandigarh', 'chandigarh', 'chandigarh', 'chandigarh', 'chandigarh', 'chandigarh', 'chandigarh', 'chandigarh', 'chandigarh', 'chandigarh', 'chandigarh', 'chandigarh', 'chandigarh', 'chandigarh'], 'Price': ['₹4.64 Lakh', '₹5.74 Lakh', '₹8.49 Lakh', '₹6.16 Lakh', '₹7.73 Lakh', '₹7.32 Lakh', '₹7.85 Lakh', '₹7.35 Lakh', '₹6.54 Lakh', '₹14.32 Lakh', '₹4.83 Lakh', '₹5.55 Lakh', '₹4.69 Lakh', '₹6.08 Lakh', '₹3.30 Lakh', '₹3.44 Lakh', '₹7.34 Lakh', '₹3.65 Lakh', '₹4.31 Lakh', '₹6.94 Lakh', '₹7.74 Lakh', '₹12.79 Lakh', '₹8.46 Lakh', '₹6.96 Lakh', '₹23.22 Lakh', '₹7.74 Lakh', '₹6.79 Lakh', '₹8.23 Lakh', '₹7.28 Lakh', '₹2.73 Lakh', '₹4.57 Lakh', '₹17.22 Lakh', '₹7.95 Lakh', '₹8.03 Lakh', '₹3.63 Lakh', '₹5.11 Lakh', '₹5.77 Lakh', '₹6.57 Lakh', '₹11.19 Lakh', '₹8.06 Lakh', '₹6.46 Lakh', '₹3.83 Lakh', '₹3.94 Lakh', '₹14.60 Lakh', '₹12.28 Lakh', '₹2.74 Lakh', '₹3.87 Lakh', '₹5.17 Lakh', '₹7.92 Lakh', '₹8.16 Lakh', '₹6.51 Lakh', '₹10.04 Lakh', '₹5.31 Lakh', '₹4.65 Lakh', '₹11.86 Lakh', '₹12.22 Lakh', '₹4.91 Lakh', '₹8.76 Lakh', '₹4.87 Lakh', '₹5.25 Lakh', '₹5.75 Lakh', '₹6.12 Lakh', '₹7.41 Lakh', '₹12.33 Lakh', '₹12.83 Lakh', '₹4.85 Lakh', '₹4.23 Lakh', '₹10.84 Lakh', '₹5.76 Lakh', '₹8.68 Lakh', '₹10.10 Lakh', '₹4.91 Lakh', '₹6.03 Lakh', '₹6.46 Lakh', '₹7.51 Lakh', '₹3.73 Lakh', '₹2.33 Lakh', '₹5.26 Lakh', '₹5.83 Lakh', '₹11.47 Lakh', '₹2.30 Lakh', '₹5.77 Lakh', '₹2.91 Lakh', '₹6.20 Lakh', '₹4.71 Lakh', '₹4.87 Lakh', '₹5.12 Lakh', '₹12.44 Lakh', '₹6.79 Lakh', '₹5.09 Lakh', '₹4.93 Lakh', '₹5.74 Lakh', '₹4.55 Lakh', '₹7.04 Lakh', '₹5.32 Lakh', '₹12.77 Lakh', '₹5.63 Lakh', '₹5.73 Lakh', '₹7.45 Lakh', '₹5.26 Lakh', '₹15.52 Lakh', '₹10.60 Lakh', '₹10.05 Lakh', '₹4.92 Lakh', '₹7.00 Lakh', '₹6.90 Lakh', '₹4.56 Lakh', '₹8.32 Lakh', '₹6.66 Lakh', '₹11.85 Lakh', '₹4.95 Lakh', '₹5.23 Lakh', '₹14.00 Lakh', '₹6.05 Lakh', '₹12.20 Lakh', '₹4.22 Lakh', '₹5.93 Lakh', '₹6.37 Lakh', '₹6.87 Lakh', '₹7.65 Lakh', '₹4.05 Lakh', '₹3.90 Lakh', '₹4.47 Lakh', '₹4.57 Lakh', '₹3.14 Lakh', '₹7.02 Lakh', '₹5.58 Lakh', '₹6.75 Lakh', '₹5.12 Lakh', '₹3.70 Lakh', '₹9.68 Lakh', '₹8.60 Lakh', '₹7.29 Lakh', '₹6.60 Lakh', '₹6.65 Lakh', '₹4.40 Lakh', '₹3.96 Lakh', '₹8.00 Lakh', '₹7.95 Lakh', '₹6.84 Lakh', '₹3.76 Lakh', '₹7.89 Lakh', '₹6.66 Lakh', '₹4.69 Lakh', '₹3.51 Lakh', '₹3.47 Lakh', '₹10.72 Lakh', '₹4.93 Lakh', '₹3.80 Lakh', '₹2.87 Lakh', '₹4.35 Lakh', '₹5.06 Lakh', '₹2.85 Lakh', '₹7.29 Lakh', '₹3.85 Lakh', '₹3.81 Lakh', '₹10.33 Lakh', '₹7.19 Lakh', '₹4.24 Lakh', '₹8.52 Lakh', '₹6.07 Lakh', '₹4.46 Lakh', '₹7.96 Lakh', '₹3.94 Lakh', '₹4.50 Lakh', '₹4.72 Lakh', '₹5.70 Lakh', '₹6.08 Lakh', '₹6.45 Lakh', '₹4.75 Lakh', '₹4.12 Lakh', '₹7.39 Lakh', '₹9.26 Lakh', '₹13.45 Lakh', '₹5.41 Lakh', '₹5.30 Lakh', '₹6.74 Lakh', '₹15.95 Lakh', '₹4.19 Lakh', '₹16.43 Lakh', '₹5.59 Lakh', '₹8.15 Lakh', '₹3.96 Lakh', '₹3.97 Lakh', '₹4.82 Lakh', '₹4.83 Lakh', '₹8.04 Lakh', '₹3.97 Lakh', '₹4.63 Lakh', '₹10.11 Lakh', '₹6.77 Lakh', '₹6.94 Lakh', '₹3.14 Lakh', '₹2.66 Lakh', '₹4.22 Lakh', '₹6.06 Lakh', '₹6.89 Lakh', '₹4.94 Lakh', '₹4.92 Lakh', '₹4.91 Lakh', '₹8.07 Lakh', '₹4.51 Lakh', '₹5.01 Lakh', '₹3.34 Lakh', '₹4.80 Lakh', '₹9.03 Lakh', '₹2.42 Lakh', '₹4.85 Lakh', '₹2.97 Lakh', '₹3.57 Lakh', '₹4.09 Lakh', '₹6.85 Lakh', '₹5.73 Lakh', '₹4.36 Lakh', '₹6.97 Lakh', '₹6.58 Lakh', '₹4.16 Lakh', '₹4.71 Lakh', '₹4.87 Lakh', '₹6.12 Lakh', '₹3.64 Lakh', '₹2.29 Lakh', '₹4.03 Lakh', '₹2.40 Lakh', '₹6.18 Lakh', '₹4.18 Lakh', '₹3.99 Lakh', '₹5.97 Lakh', '₹3.01 Lakh', '₹2.52 Lakh', '₹4.85 Lakh', '₹6.35 Lakh', '₹2.95 Lakh', '₹3.50 Lakh', '₹6.39 Lakh', '₹3.57 Lakh', '₹7.05 Lakh', '₹2.97 Lakh', '₹5.59 Lakh', '₹4.84 Lakh', '₹1.89 Lakh', '₹6.03 Lakh', '₹2.76 Lakh', '₹7.48 Lakh', '₹9.42 Lakh', '₹3.94 Lakh', '₹6.36 Lakh', '₹7.39 Lakh', '₹7.47 Lakh', '₹6.76 Lakh', '₹5.73 Lakh', '₹3.99 Lakh', '₹5.27 Lakh', '₹6.74 Lakh', '₹3.74 Lakh', '₹3.01 Lakh', '₹1.51 Lakh', '₹5.19 Lakh', '₹15.49 Lakh', '₹3.72 Lakh', '₹2.99 Lakh', '₹5.76 Lakh', '₹9.68 Lakh', '₹5.28 Lakh', '₹4.79 Lakh', '₹1.94 Lakh', '₹5.21 Lakh', '₹5.06 Lakh', '₹2.50 Lakh', '₹4.73 Lakh', '₹4.36 Lakh', '₹4.96 Lakh', '₹8.18 Lakh', '₹2.81 Lakh', '₹11.10 Lakh', '₹2.66 Lakh', '₹4.39 Lakh', '₹7.05 Lakh', '₹7.87 Lakh', '₹3.20 Lakh', '₹4.39 Lakh', '₹6.48 Lakh', '₹4.78 Lakh', '₹5.73 Lakh', '₹8.34 Lakh', '₹4.60 Lakh', '₹4.45 Lakh', '₹4.78 Lakh', '₹7.04 Lakh', '₹10.11 Lakh', '₹7.51 Lakh', '₹4.14 Lakh', '₹7.01 Lakh', '₹10.51 Lakh', '₹9.68 Lakh', '₹6.47 Lakh', '₹8.53 Lakh', '₹8.78 Lakh', '₹4.60 Lakh', '₹5.19 Lakh'], 'Monthly EMI': [' ₹12,219', ' ₹12,768', ' ₹16,160', ' ₹12,043', ' ₹15,106', ' ₹14,311', ' ₹17,462', ' ₹14,370', ' ₹12,786', ' ₹27,257', ' ₹9,439', ' ₹10,851', ' ₹9,169', ' ₹11,887', ' ₹6,455', ' ₹6,732', ' ₹14,355', ' ₹7,132', ' ₹8,426', ' ₹13,573', ' ₹15,128', ' ₹24,345', ' ₹16,103', ' ₹13,610', ' ₹44,197', ' ₹15,132', ' ₹13,281', ' ₹15,657', ' ₹14,242', ' ₹6,069', ' ₹8,934', ' ₹32,777', ' ₹15,537', ' ₹15,287', ' ₹7,097', ' ₹9,990', ' ₹11,280', ' ₹12,853', ' ₹21,299', ' ₹15,342', ' ₹12,629', ' ₹7,493', ' ₹7,703', ' ₹27,790', ' ₹23,374', ' ₹12,908', ' ₹7,560', ' ₹10,112', ' ₹15,484', ' ₹15,532', ' ₹12,736', ' ₹19,116', ' ₹11,812', ' ₹9,098', ' ₹22,574', ' ₹23,267', ' ₹9,591', ' ₹16,674', ' ₹16,162', ' ₹10,264', ' ₹11,247', ' ₹11,956', ' ₹14,487', ' ₹23,469', ' ₹24,421', ' ₹9,482', ' ₹14,043', ' ₹20,633', ' ₹12,813', ' ₹16,522', ' ₹19,227', ' ₹9,602', ' ₹11,789', ' ₹12,629', ' ₹14,682', ' ₹7,294', ' ₹5,183', ' ₹10,282', ' ₹11,392', ' ₹21,832', ' ₹4,494', ' ₹11,290', ' ₹5,689', ' ₹12,124', ' ₹10,477', ' ₹9,521', ' ₹10,010', ' ₹23,678', ' ₹13,275', ' ₹9,951', ' ₹12,983', ' ₹11,230', ' ₹10,121', ' ₹13,760', ' ₹10,401', ' ₹24,315', ' ₹11,011', ' ₹11,202', ' ₹14,565', ' ₹10,283', ' ₹29,541', ' ₹20,176', ' ₹19,120', ' ₹9,619', ' ₹13,685', ' ₹13,481', ' ₹8,911', ' ₹15,836', ' ₹13,020', ' ₹22,557', ' ₹9,675', ' ₹10,225', ' ₹26,644', ' ₹11,828', ' ₹23,217', ' ₹8,251', ' ₹11,590', ' ₹12,457', ' ₹13,431', ' ₹14,951', ' ₹7,921', ' ₹7,625', ' ₹8,743', ' ₹8,934', ' ₹8,277', ' ₹13,732', ' ₹10,909', ' ₹13,204', ' ₹10,011', ' ₹7,234', ' ₹18,426', ' ₹16,369', ' ₹14,259', ' ₹12,910', ' ₹13,001', ' ₹8,600', ' ₹7,734', ' ₹15,227', ' ₹15,542', ' ₹13,363', ' ₹8,373', ' ₹15,425', ' ₹13,020', ' ₹9,169', ' ₹9,237', ' ₹6,786', ' ₹20,405', ' ₹9,638', ' ₹7,429', ' ₹7,552', ' ₹8,504', ' ₹9,894', ' ₹7,496', ' ₹14,252', ' ₹7,527', ' ₹7,443', ' ₹19,664', ' ₹14,057', ' ₹8,289', ' ₹16,217', ' ₹11,861', ' ₹8,715', ' ₹15,561', ' ₹7,708', ' ₹8,797', ' ₹9,224', ' ₹12,679', ' ₹11,887', ' ₹12,610', ' ₹9,289', ' ₹8,052', ' ₹14,448', ' ₹17,625', ' ₹25,601', ' ₹10,572', ' ₹10,362', ' ₹13,182', ' ₹30,359', ' ₹9,313', ' ₹31,273', ' ₹10,925', ' ₹15,513', ' ₹7,750', ' ₹7,756', ' ₹9,415', ' ₹9,433', ' ₹15,309', ' ₹7,756', ' ₹9,061', ' ₹19,247', ' ₹13,235', ' ₹13,571', ' ₹8,268', ' ₹5,917', ' ₹8,250', ' ₹11,840', ' ₹13,474', ' ₹9,658', ' ₹9,619', ' ₹9,599', ' ₹15,361', ' ₹8,812', ' ₹9,795', ' ₹8,796', ' ₹9,378', ' ₹17,188', ' ₹5,383', ' ₹9,482', ' ₹6,596', ' ₹6,983', ' ₹7,996', ' ₹13,392', ' ₹11,195', ' ₹8,524', ' ₹13,621', ' ₹14,637', ' ₹8,133', ' ₹9,208', ' ₹9,521', ' ₹11,965', ' ₹9,586', ' ₹4,477', ' ₹7,884', ' ₹4,692', ' ₹12,085', ' ₹8,172', ' ₹7,801', ' ₹11,675', ' ₹6,696', ' ₹4,927', ' ₹9,491', ' ₹12,417', ' ₹5,774', ' ₹7,786', ' ₹12,491', ' ₹6,972', ' ₹13,783', ' ₹5,806', ' ₹10,929', ' ₹9,462', ' ₹6,288', ' ₹11,789', ' ₹5,387', ' ₹14,624', ' ₹17,930', ' ₹7,705', ' ₹12,434', ' ₹14,448', ' ₹14,604', ' ₹13,216', ' ₹11,206', ' ₹7,802', ' ₹10,303', ' ₹13,177', ' ₹17,605', ' ₹5,885', ' ₹13,416', ' ₹10,147', ' ₹29,484', ' ₹7,278', ' ₹6,652', ' ₹11,261', ' ₹18,425', ' ₹10,323', ' ₹9,365', ' ₹5,109', ' ₹10,186', ' ₹9,901', ' ₹6,583', ' ₹9,247', ' ₹8,524', ' ₹9,697', ' ₹15,569', ' ₹7,397', ' ₹21,128', ' ₹7,005', ' ₹8,583', ' ₹13,779', ' ₹15,386', ' ₹6,257', ' ₹8,583', ' ₹12,676', ' ₹9,345', ' ₹11,202', ' ₹15,874', ' ₹10,225', ' ₹9,899', ' ₹22,501', ' ₹13,763', ' ₹19,252', ' ₹14,682', ' ₹8,087', ' ₹13,713', ' ₹20,005', ' ₹18,425', ' ₹12,649', ' ₹18,546', ' ₹16,712', ' ₹10,232', ' ₹10,147']}\n"
     ]
    }
   ],
   "source": [
    "# Defining dictionary in a required form\n",
    "d={\"Car Name\":car_name,\"Car Model Year\":car_model_year,\"Car Company\":car_company,\"Location\":location,\"Price\":price,\"Monthly EMI\":EMI}\n",
    "print(d)"
   ]
  },
  {
   "cell_type": "code",
   "execution_count": 12,
   "id": "2ca5e941",
   "metadata": {},
   "outputs": [
    {
     "name": "stdout",
     "output_type": "stream",
     "text": [
      "                                Car Name Car Model Year Car Company  \\\n",
      "0            Honda City 1.5L I-VTEC V MT           2013       Honda   \n",
      "1       Renault Duster 110 PS RXL DIESEL           2015     Renault   \n",
      "2            Tata PUNCH ACCOMPLISHED AMT           2021        Tata   \n",
      "3     Ford Ecosport TITANIUM 1.5L PETROL           2016        Ford   \n",
      "4        Renault Duster 85 PS RXZ DIESEL           2017     Renault   \n",
      "..                                   ...            ...         ...   \n",
      "295                     Maruti Swift ZXI           2021      Maruti   \n",
      "296           Toyota Innova 2.5 VX 8 STR           2015      Toyota   \n",
      "297  Honda City 1.5L I-VTEC V MT 4TH GEN           2022       Honda   \n",
      "298   Ford Ecosport TITANIUM 1.5L DIESEL           2016        Ford   \n",
      "299      Renault Duster 85 PS RXZ DIESEL           2017     Renault   \n",
      "\n",
      "       Location       Price Monthly EMI  \n",
      "0     bangalore  ₹4.64 Lakh     ₹12,219  \n",
      "1     bangalore  ₹5.74 Lakh     ₹12,768  \n",
      "2     bangalore  ₹8.49 Lakh     ₹16,160  \n",
      "3     bangalore  ₹6.16 Lakh     ₹12,043  \n",
      "4     bangalore  ₹7.73 Lakh     ₹15,106  \n",
      "..          ...         ...         ...  \n",
      "295  chandigarh  ₹6.47 Lakh     ₹12,649  \n",
      "296  chandigarh  ₹8.53 Lakh     ₹18,546  \n",
      "297  chandigarh  ₹8.78 Lakh     ₹16,712  \n",
      "298  chandigarh  ₹4.60 Lakh     ₹10,232  \n",
      "299  chandigarh  ₹5.19 Lakh     ₹10,147  \n",
      "\n",
      "[300 rows x 6 columns]\n"
     ]
    }
   ],
   "source": [
    "# Reading dictionary into model using pandas\n",
    "model=pd.DataFrame(data=d)\n",
    "print(model)"
   ]
  },
  {
   "cell_type": "code",
   "execution_count": 13,
   "id": "ba357c63",
   "metadata": {},
   "outputs": [
    {
     "name": "stdout",
     "output_type": "stream",
     "text": [
      "<class 'pandas.core.frame.DataFrame'>\n",
      "RangeIndex: 300 entries, 0 to 299\n",
      "Data columns (total 6 columns):\n",
      " #   Column          Non-Null Count  Dtype \n",
      "---  ------          --------------  ----- \n",
      " 0   Car Name        300 non-null    object\n",
      " 1   Car Model Year  300 non-null    object\n",
      " 2   Car Company     300 non-null    object\n",
      " 3   Location        300 non-null    object\n",
      " 4   Price           300 non-null    object\n",
      " 5   Monthly EMI     300 non-null    object\n",
      "dtypes: object(6)\n",
      "memory usage: 14.2+ KB\n"
     ]
    }
   ],
   "source": [
    "# Data validation\n",
    "model.info()"
   ]
  },
  {
   "cell_type": "code",
   "execution_count": 15,
   "id": "5a4bf994",
   "metadata": {},
   "outputs": [
    {
     "data": {
      "text/html": [
       "<div>\n",
       "<style scoped>\n",
       "    .dataframe tbody tr th:only-of-type {\n",
       "        vertical-align: middle;\n",
       "    }\n",
       "\n",
       "    .dataframe tbody tr th {\n",
       "        vertical-align: top;\n",
       "    }\n",
       "\n",
       "    .dataframe thead th {\n",
       "        text-align: right;\n",
       "    }\n",
       "</style>\n",
       "<table border=\"1\" class=\"dataframe\">\n",
       "  <thead>\n",
       "    <tr style=\"text-align: right;\">\n",
       "      <th></th>\n",
       "      <th>Unnamed: 0</th>\n",
       "      <th>Car Name</th>\n",
       "      <th>Car Model Year</th>\n",
       "      <th>Car Company</th>\n",
       "      <th>Location</th>\n",
       "      <th>Price</th>\n",
       "      <th>Monthly EMI</th>\n",
       "    </tr>\n",
       "  </thead>\n",
       "  <tbody>\n",
       "    <tr>\n",
       "      <th>0</th>\n",
       "      <td>0</td>\n",
       "      <td>Honda City 1.5L I-VTEC V MT</td>\n",
       "      <td>2013</td>\n",
       "      <td>Honda</td>\n",
       "      <td>bangalore</td>\n",
       "      <td>₹4.64 Lakh</td>\n",
       "      <td>₹12,219</td>\n",
       "    </tr>\n",
       "    <tr>\n",
       "      <th>1</th>\n",
       "      <td>1</td>\n",
       "      <td>Renault Duster 110 PS RXL DIESEL</td>\n",
       "      <td>2015</td>\n",
       "      <td>Renault</td>\n",
       "      <td>bangalore</td>\n",
       "      <td>₹5.74 Lakh</td>\n",
       "      <td>₹12,768</td>\n",
       "    </tr>\n",
       "    <tr>\n",
       "      <th>2</th>\n",
       "      <td>2</td>\n",
       "      <td>Tata PUNCH ACCOMPLISHED AMT</td>\n",
       "      <td>2021</td>\n",
       "      <td>Tata</td>\n",
       "      <td>bangalore</td>\n",
       "      <td>₹8.49 Lakh</td>\n",
       "      <td>₹16,160</td>\n",
       "    </tr>\n",
       "    <tr>\n",
       "      <th>3</th>\n",
       "      <td>3</td>\n",
       "      <td>Ford Ecosport TITANIUM 1.5L PETROL</td>\n",
       "      <td>2016</td>\n",
       "      <td>Ford</td>\n",
       "      <td>bangalore</td>\n",
       "      <td>₹6.16 Lakh</td>\n",
       "      <td>₹12,043</td>\n",
       "    </tr>\n",
       "    <tr>\n",
       "      <th>4</th>\n",
       "      <td>4</td>\n",
       "      <td>Renault Duster 85 PS RXZ DIESEL</td>\n",
       "      <td>2017</td>\n",
       "      <td>Renault</td>\n",
       "      <td>bangalore</td>\n",
       "      <td>₹7.73 Lakh</td>\n",
       "      <td>₹15,106</td>\n",
       "    </tr>\n",
       "    <tr>\n",
       "      <th>...</th>\n",
       "      <td>...</td>\n",
       "      <td>...</td>\n",
       "      <td>...</td>\n",
       "      <td>...</td>\n",
       "      <td>...</td>\n",
       "      <td>...</td>\n",
       "      <td>...</td>\n",
       "    </tr>\n",
       "    <tr>\n",
       "      <th>295</th>\n",
       "      <td>295</td>\n",
       "      <td>Maruti Swift ZXI</td>\n",
       "      <td>2021</td>\n",
       "      <td>Maruti</td>\n",
       "      <td>chandigarh</td>\n",
       "      <td>₹6.47 Lakh</td>\n",
       "      <td>₹12,649</td>\n",
       "    </tr>\n",
       "    <tr>\n",
       "      <th>296</th>\n",
       "      <td>296</td>\n",
       "      <td>Toyota Innova 2.5 VX 8 STR</td>\n",
       "      <td>2015</td>\n",
       "      <td>Toyota</td>\n",
       "      <td>chandigarh</td>\n",
       "      <td>₹8.53 Lakh</td>\n",
       "      <td>₹18,546</td>\n",
       "    </tr>\n",
       "    <tr>\n",
       "      <th>297</th>\n",
       "      <td>297</td>\n",
       "      <td>Honda City 1.5L I-VTEC V MT 4TH GEN</td>\n",
       "      <td>2022</td>\n",
       "      <td>Honda</td>\n",
       "      <td>chandigarh</td>\n",
       "      <td>₹8.78 Lakh</td>\n",
       "      <td>₹16,712</td>\n",
       "    </tr>\n",
       "    <tr>\n",
       "      <th>298</th>\n",
       "      <td>298</td>\n",
       "      <td>Ford Ecosport TITANIUM 1.5L DIESEL</td>\n",
       "      <td>2016</td>\n",
       "      <td>Ford</td>\n",
       "      <td>chandigarh</td>\n",
       "      <td>₹4.60 Lakh</td>\n",
       "      <td>₹10,232</td>\n",
       "    </tr>\n",
       "    <tr>\n",
       "      <th>299</th>\n",
       "      <td>299</td>\n",
       "      <td>Renault Duster 85 PS RXZ DIESEL</td>\n",
       "      <td>2017</td>\n",
       "      <td>Renault</td>\n",
       "      <td>chandigarh</td>\n",
       "      <td>₹5.19 Lakh</td>\n",
       "      <td>₹10,147</td>\n",
       "    </tr>\n",
       "  </tbody>\n",
       "</table>\n",
       "<p>300 rows × 7 columns</p>\n",
       "</div>"
      ],
      "text/plain": [
       "     Unnamed: 0                             Car Name  Car Model Year  \\\n",
       "0             0          Honda City 1.5L I-VTEC V MT            2013   \n",
       "1             1     Renault Duster 110 PS RXL DIESEL            2015   \n",
       "2             2          Tata PUNCH ACCOMPLISHED AMT            2021   \n",
       "3             3   Ford Ecosport TITANIUM 1.5L PETROL            2016   \n",
       "4             4      Renault Duster 85 PS RXZ DIESEL            2017   \n",
       "..          ...                                  ...             ...   \n",
       "295         295                     Maruti Swift ZXI            2021   \n",
       "296         296           Toyota Innova 2.5 VX 8 STR            2015   \n",
       "297         297  Honda City 1.5L I-VTEC V MT 4TH GEN            2022   \n",
       "298         298   Ford Ecosport TITANIUM 1.5L DIESEL            2016   \n",
       "299         299      Renault Duster 85 PS RXZ DIESEL            2017   \n",
       "\n",
       "    Car Company    Location       Price Monthly EMI  \n",
       "0         Honda   bangalore  ₹4.64 Lakh     ₹12,219  \n",
       "1       Renault   bangalore  ₹5.74 Lakh     ₹12,768  \n",
       "2          Tata   bangalore  ₹8.49 Lakh     ₹16,160  \n",
       "3          Ford   bangalore  ₹6.16 Lakh     ₹12,043  \n",
       "4       Renault   bangalore  ₹7.73 Lakh     ₹15,106  \n",
       "..          ...         ...         ...         ...  \n",
       "295      Maruti  chandigarh  ₹6.47 Lakh     ₹12,649  \n",
       "296      Toyota  chandigarh  ₹8.53 Lakh     ₹18,546  \n",
       "297       Honda  chandigarh  ₹8.78 Lakh     ₹16,712  \n",
       "298        Ford  chandigarh  ₹4.60 Lakh     ₹10,232  \n",
       "299     Renault  chandigarh  ₹5.19 Lakh     ₹10,147  \n",
       "\n",
       "[300 rows x 7 columns]"
      ]
     },
     "execution_count": 15,
     "metadata": {},
     "output_type": "execute_result"
    }
   ],
   "source": [
    "# Converting model into a csv file\n",
    "model.to_csv(\"Cars Data.csv\")\n",
    "# Reading contents of created csv file\n",
    "csv_data=pd.read_csv(r\"Cars Data.csv\")\n",
    "csv_data"
   ]
  },
  {
   "cell_type": "code",
   "execution_count": null,
   "id": "bb54ac90",
   "metadata": {},
   "outputs": [],
   "source": []
  }
 ],
 "metadata": {
  "kernelspec": {
   "display_name": "Python 3 (ipykernel)",
   "language": "python",
   "name": "python3"
  },
  "language_info": {
   "codemirror_mode": {
    "name": "ipython",
    "version": 3
   },
   "file_extension": ".py",
   "mimetype": "text/x-python",
   "name": "python",
   "nbconvert_exporter": "python",
   "pygments_lexer": "ipython3",
   "version": "3.11.5"
  }
 },
 "nbformat": 4,
 "nbformat_minor": 5
}
